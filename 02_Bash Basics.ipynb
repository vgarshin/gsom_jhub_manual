{
 "cells": [
  {
   "cell_type": "markdown",
   "id": "ideal-coverage",
   "metadata": {},
   "source": [
    "# Bash Commands Basics"
   ]
  },
  {
   "cell_type": "markdown",
   "id": "antique-conversion",
   "metadata": {},
   "source": [
    "## Access to terminal"
   ]
  },
  {
   "cell_type": "markdown",
   "id": "capital-attraction",
   "metadata": {},
   "source": [
    "Basic functionality allows to open a Unix terminal to run shell commands. To open a new terminal you should find `New` button in a main Jupyter menu and press it."
   ]
  },
  {
   "cell_type": "markdown",
   "id": "political-brown",
   "metadata": {},
   "source": [
    "![Jupyter terminal open menu](images/terminal_0.png)"
   ]
  },
  {
   "cell_type": "markdown",
   "id": "threaded-intention",
   "metadata": {},
   "source": [
    "There will be a dropdown menu where you should choose `Terminal:`"
   ]
  },
  {
   "cell_type": "markdown",
   "id": "sudden-relay",
   "metadata": {},
   "source": [
    "![Jupyter terminal open](images/terminal_1.png)"
   ]
  },
  {
   "cell_type": "markdown",
   "id": "drawn-stone",
   "metadata": {},
   "source": [
    "This will open a terminal to run shell commands:"
   ]
  },
  {
   "cell_type": "markdown",
   "id": "official-calcium",
   "metadata": {},
   "source": [
    "![Jupyter terminal opened](images/terminal_2.png)"
   ]
  },
  {
   "cell_type": "markdown",
   "id": "parallel-snowboard",
   "metadata": {},
   "source": [
    " You may open many terminals at one time and manage them as the windows in your browser. Terminal can be shutdowned as well as a Jupyter notebook in `Running` tab."
   ]
  },
  {
   "cell_type": "markdown",
   "id": "personal-contact",
   "metadata": {},
   "source": [
    "## Access to terminal in the notebook"
   ]
  },
  {
   "cell_type": "markdown",
   "id": "guided-category",
   "metadata": {},
   "source": [
    "Jupyter Notebooks allow you to get access to the terminal with use of `!` in the cell with code. Let's see how bash command `pwd` (show the current directory):"
   ]
  },
  {
   "cell_type": "code",
   "execution_count": null,
   "id": "wound-sampling",
   "metadata": {},
   "outputs": [],
   "source": [
    "!pwd"
   ]
  },
  {
   "cell_type": "markdown",
   "id": "structural-extent",
   "metadata": {},
   "source": [
    "...and see the system Unix time:"
   ]
  },
  {
   "cell_type": "code",
   "execution_count": null,
   "id": "armed-numbers",
   "metadata": {},
   "outputs": [],
   "source": [
    "!date"
   ]
  },
  {
   "cell_type": "markdown",
   "id": "third-daily",
   "metadata": {},
   "source": [
    "Complete list of bash comands with descriptions you can find [here](https://ss64.com/bash/)."
   ]
  },
  {
   "cell_type": "markdown",
   "id": "vertical-carry",
   "metadata": {},
   "source": [
    "## Navigating"
   ]
  },
  {
   "cell_type": "markdown",
   "id": "unavailable-passport",
   "metadata": {},
   "source": [
    "Let's list all the directory files with `ls` command:"
   ]
  },
  {
   "cell_type": "code",
   "execution_count": null,
   "id": "continued-magic",
   "metadata": {},
   "outputs": [],
   "source": [
    "!ls -l"
   ]
  },
  {
   "cell_type": "markdown",
   "id": "maritime-johns",
   "metadata": {},
   "source": [
    "You can combine commands with `&&`. Here is an example how to move to parent directory and list files in it:"
   ]
  },
  {
   "cell_type": "code",
   "execution_count": null,
   "id": "latest-source",
   "metadata": {},
   "outputs": [],
   "source": [
    "!cd .. && ls"
   ]
  },
  {
   "cell_type": "markdown",
   "id": "fixed-finnish",
   "metadata": {},
   "source": [
    "We can count files in the directory with the following command:"
   ]
  },
  {
   "cell_type": "code",
   "execution_count": null,
   "id": "decent-collector",
   "metadata": {},
   "outputs": [],
   "source": [
    "!ls -la | wc -l"
   ]
  },
  {
   "cell_type": "markdown",
   "id": "continued-television",
   "metadata": {},
   "source": [
    "Note thet the pipe operator `|` is used. A Unix pipe `|` connects the STDOUT (standard output) file descriptor of the first process to the STDIN (standard input) of the second."
   ]
  },
  {
   "cell_type": "markdown",
   "id": "dynamic-deficit",
   "metadata": {},
   "source": [
    "## Creating files and directories"
   ]
  },
  {
   "cell_type": "markdown",
   "id": "smooth-sailing",
   "metadata": {},
   "source": [
    "Creating directory named `testdir` with `mkdir` command:"
   ]
  },
  {
   "cell_type": "code",
   "execution_count": null,
   "id": "greek-selling",
   "metadata": {},
   "outputs": [],
   "source": [
    "!mkdir testdir"
   ]
  },
  {
   "cell_type": "markdown",
   "id": "bacterial-ranking",
   "metadata": {},
   "source": [
    "...and listing the result (you may find new `testdir` directory):"
   ]
  },
  {
   "cell_type": "code",
   "execution_count": null,
   "id": "underlying-montgomery",
   "metadata": {},
   "outputs": [],
   "source": [
    "!ls"
   ]
  },
  {
   "cell_type": "markdown",
   "id": "romance-reduction",
   "metadata": {},
   "source": [
    "Now we can create an empty file with name `testfile.txt` with `touch` command:"
   ]
  },
  {
   "cell_type": "code",
   "execution_count": null,
   "id": "listed-malta",
   "metadata": {},
   "outputs": [],
   "source": [
    "!touch testfile.txt"
   ]
  },
  {
   "cell_type": "markdown",
   "id": "trying-conflict",
   "metadata": {},
   "source": [
    "...check if file is created:"
   ]
  },
  {
   "cell_type": "code",
   "execution_count": null,
   "id": "durable-warner",
   "metadata": {},
   "outputs": [],
   "source": [
    "!ls"
   ]
  },
  {
   "cell_type": "markdown",
   "id": "other-least",
   "metadata": {},
   "source": [
    "To see what is in file you may use `cat` command:"
   ]
  },
  {
   "cell_type": "code",
   "execution_count": null,
   "id": "fifth-doubt",
   "metadata": {},
   "outputs": [],
   "source": [
    "!cat testfile.txt"
   ]
  },
  {
   "cell_type": "markdown",
   "id": "massive-universe",
   "metadata": {},
   "source": [
    "There is nothing in the file because it was created empty. Let's append a rows with date in it. We use command `>>` to append a string to the end of file. NOTE that we use `&&` to combine commands and run one after another:"
   ]
  },
  {
   "cell_type": "code",
   "execution_count": null,
   "id": "republican-comment",
   "metadata": {},
   "outputs": [],
   "source": [
    "!date >> testfile.txt && cat testfile.txt"
   ]
  },
  {
   "cell_type": "markdown",
   "id": "proved-afghanistan",
   "metadata": {},
   "source": [
    "...one more row (now with `echo` command):"
   ]
  },
  {
   "cell_type": "code",
   "execution_count": null,
   "id": "tracked-samba",
   "metadata": {},
   "outputs": [],
   "source": [
    "!echo \"I can append to file!!!\" >> testfile.txt && cat testfile.txt"
   ]
  },
  {
   "cell_type": "markdown",
   "id": "guilty-blink",
   "metadata": {},
   "source": [
    "## Copy and move files "
   ]
  },
  {
   "cell_type": "markdown",
   "id": "sudden-amsterdam",
   "metadata": {},
   "source": [
    "There is `cp` command for copying files and directories. Copy our created `testfile.txt` to a new file `testfile_copy.txt` in the `testdir` directory:"
   ]
  },
  {
   "cell_type": "code",
   "execution_count": null,
   "id": "fourth-laptop",
   "metadata": {},
   "outputs": [],
   "source": [
    "!cp testfile.txt testdir/testfile_copy.txt"
   ]
  },
  {
   "cell_type": "markdown",
   "id": "czech-alfred",
   "metadata": {},
   "source": [
    "...and list the `testdir` directory:"
   ]
  },
  {
   "cell_type": "code",
   "execution_count": null,
   "id": "different-pathology",
   "metadata": {},
   "outputs": [],
   "source": [
    "!ls testdir/"
   ]
  },
  {
   "cell_type": "markdown",
   "id": "difficult-soldier",
   "metadata": {},
   "source": [
    "Now will move `testfile.txt` to the `testdir` directory with `mv` command:"
   ]
  },
  {
   "cell_type": "code",
   "execution_count": null,
   "id": "impressed-player",
   "metadata": {},
   "outputs": [],
   "source": [
    "!mv testfile.txt testdir/"
   ]
  },
  {
   "cell_type": "code",
   "execution_count": null,
   "id": "amazing-remains",
   "metadata": {},
   "outputs": [],
   "source": [
    "!ls testdir/"
   ]
  },
  {
   "cell_type": "markdown",
   "id": "simplified-administration",
   "metadata": {},
   "source": [
    "## Deleting files and directories"
   ]
  },
  {
   "cell_type": "markdown",
   "id": "abandoned-adrian",
   "metadata": {},
   "source": [
    "__NOTE__: _be careful while deleting files and directories, you are not in Windows and you do not have Trash Bin! You will not be asked wheither to delete files or not, your command just deletes everything you asked FOREVER._"
   ]
  },
  {
   "cell_type": "markdown",
   "id": "scenic-modification",
   "metadata": {},
   "source": [
    "If you still want to try removing some files and directories, you may use `rm` command e.g. to delete `testfile.txt` in the `testdir`:"
   ]
  },
  {
   "cell_type": "code",
   "execution_count": null,
   "id": "outer-smooth",
   "metadata": {},
   "outputs": [],
   "source": [
    "!rm testdir/testfile.txt"
   ]
  },
  {
   "cell_type": "markdown",
   "id": "graphic-seeking",
   "metadata": {},
   "source": [
    "...there is only copy of the file left:"
   ]
  },
  {
   "cell_type": "code",
   "execution_count": null,
   "id": "fleet-export",
   "metadata": {},
   "outputs": [],
   "source": [
    "!ls testdir/"
   ]
  },
  {
   "cell_type": "markdown",
   "id": "middle-marshall",
   "metadata": {},
   "source": [
    "Now will delete the directory `testdir` itself:"
   ]
  },
  {
   "cell_type": "code",
   "execution_count": null,
   "id": "improved-illness",
   "metadata": {},
   "outputs": [],
   "source": [
    "!rm -rf testdir/"
   ]
  },
  {
   "cell_type": "markdown",
   "id": "private-fighter",
   "metadata": {},
   "source": [
    "Note that key `-rf` was used to delete all the files in the directory recursively."
   ]
  },
  {
   "cell_type": "markdown",
   "id": "documented-martin",
   "metadata": {},
   "source": [
    "## Git integration"
   ]
  },
  {
   "cell_type": "markdown",
   "id": "vulnerable-audience",
   "metadata": {},
   "source": [
    "There is [git](https://git-scm.com/) client installed in the environment, so you may use basis `git` commands:"
   ]
  },
  {
   "cell_type": "code",
   "execution_count": null,
   "id": "enhanced-perth",
   "metadata": {},
   "outputs": [],
   "source": [
    "!git help"
   ]
  },
  {
   "cell_type": "code",
   "execution_count": null,
   "id": "presidential-transformation",
   "metadata": {},
   "outputs": [],
   "source": [
    "!git status"
   ]
  },
  {
   "cell_type": "markdown",
   "id": "mineral-concern",
   "metadata": {},
   "source": [
    "Or you may clone a repository e.g. from [github.com](https://github.com) you need with `git clone` command:"
   ]
  },
  {
   "cell_type": "code",
   "execution_count": null,
   "id": "ecological-laundry",
   "metadata": {},
   "outputs": [],
   "source": [
    "!git clone https://github.com/jerry-git/learn-python3"
   ]
  },
  {
   "cell_type": "markdown",
   "id": "composed-johnson",
   "metadata": {},
   "source": [
    "Folder `learn-python3/` with cloned repository `https://github.com/jerry-git/learn-python3` is now created:"
   ]
  },
  {
   "cell_type": "code",
   "execution_count": null,
   "id": "compressed-comment",
   "metadata": {},
   "outputs": [],
   "source": [
    "!ls learn-python3/"
   ]
  },
  {
   "cell_type": "markdown",
   "id": "afraid-wings",
   "metadata": {},
   "source": [
    "Anyway, it can be deleted:"
   ]
  },
  {
   "cell_type": "code",
   "execution_count": null,
   "id": "postal-concentration",
   "metadata": {},
   "outputs": [],
   "source": [
    "!rm -rf learn-python3/"
   ]
  },
  {
   "cell_type": "markdown",
   "id": "collaborative-hurricane",
   "metadata": {},
   "source": [
    "## Some advanced stuff: Bash and Python scripts"
   ]
  },
  {
   "cell_type": "markdown",
   "id": "turned-horror",
   "metadata": {},
   "source": [
    "Of course we all like Python and we can run Python scripts with terminal. But we should create a script with Python code to run it. So will use known commands to create a file:"
   ]
  },
  {
   "cell_type": "code",
   "execution_count": null,
   "id": "recognized-count",
   "metadata": {},
   "outputs": [],
   "source": [
    "!echo \"print('Hello World!')\" > test.py"
   ]
  },
  {
   "cell_type": "markdown",
   "id": "arbitrary-shelter",
   "metadata": {},
   "source": [
    "...and will look at the file's content:"
   ]
  },
  {
   "cell_type": "code",
   "execution_count": null,
   "id": "cleared-istanbul",
   "metadata": {},
   "outputs": [],
   "source": [
    "!cat test.py"
   ]
  },
  {
   "cell_type": "markdown",
   "id": "spoken-december",
   "metadata": {},
   "source": [
    "Now run a script with the system Python:"
   ]
  },
  {
   "cell_type": "code",
   "execution_count": null,
   "id": "smaller-mumbai",
   "metadata": {},
   "outputs": [],
   "source": [
    "!python test.py"
   ]
  },
  {
   "cell_type": "markdown",
   "id": "affiliated-broadcast",
   "metadata": {},
   "source": [
    "Let's do our script more complicated:"
   ]
  },
  {
   "cell_type": "code",
   "execution_count": null,
   "id": "healthy-ordering",
   "metadata": {},
   "outputs": [],
   "source": [
    "!echo \"first_word = 'Bash'\" >> test.py\n",
    "!echo \"space = ' '\" >> test.py\n",
    "!echo \"second_word = 'rulezzz!'\" >> test.py\n",
    "!echo \"print(first_word + space + second_word)\" >> test.py"
   ]
  },
  {
   "cell_type": "code",
   "execution_count": null,
   "id": "norman-encounter",
   "metadata": {},
   "outputs": [],
   "source": [
    "!cat test.py"
   ]
  },
  {
   "cell_type": "markdown",
   "id": "healthy-sector",
   "metadata": {},
   "source": [
    "...and run script again:"
   ]
  },
  {
   "cell_type": "code",
   "execution_count": null,
   "id": "varied-cancellation",
   "metadata": {},
   "outputs": [],
   "source": [
    "!python test.py"
   ]
  },
  {
   "cell_type": "markdown",
   "id": "future-macro",
   "metadata": {},
   "source": [
    "Finally let's clean all our trash:"
   ]
  },
  {
   "cell_type": "code",
   "execution_count": null,
   "id": "completed-campaign",
   "metadata": {},
   "outputs": [],
   "source": [
    "!rm test.py"
   ]
  },
  {
   "cell_type": "code",
   "execution_count": null,
   "id": "informational-relation",
   "metadata": {},
   "outputs": [],
   "source": []
  }
 ],
 "metadata": {
  "kernelspec": {
   "display_name": "Python 3",
   "language": "python",
   "name": "python3"
  },
  "language_info": {
   "codemirror_mode": {
    "name": "ipython",
    "version": 3
   },
   "file_extension": ".py",
   "mimetype": "text/x-python",
   "name": "python",
   "nbconvert_exporter": "python",
   "pygments_lexer": "ipython3",
   "version": "3.8.6"
  }
 },
 "nbformat": 4,
 "nbformat_minor": 5
}
