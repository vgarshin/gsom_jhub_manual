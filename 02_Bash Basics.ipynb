{
 "cells": [
  {
   "cell_type": "markdown",
   "id": "ideal-coverage",
   "metadata": {},
   "source": [
    "# Bash Commands Basics"
   ]
  },
  {
   "cell_type": "markdown",
   "id": "d4c70536-18cd-4ea0-a551-1c239fa506f5",
   "metadata": {},
   "source": [
    "## Access to terminal"
   ]
  },
  {
   "cell_type": "markdown",
   "id": "8f4a102c-0b75-4cf5-9905-c13e4cf11e2d",
   "metadata": {},
   "source": [
    "Basic functionality of JupyterLab allows to open a Unix terminal to run shell commands. To open a new terminal you should follow `File -> New -> Terminal` in the main menu:"
   ]
  },
  {
   "cell_type": "markdown",
   "id": "4dd21f23-b88b-4551-97ad-96f95a2bc852",
   "metadata": {},
   "source": [
    "![Jupyter terminal open menu](images/jupyterlab_terminal_open.jpg)"
   ]
  },
  {
   "cell_type": "markdown",
   "id": "81d4af2f-eb42-4b70-a91a-2a4273755f0a",
   "metadata": {},
   "source": [
    "This will open a terminal to run shell commands:"
   ]
  },
  {
   "cell_type": "markdown",
   "id": "273d849f-da11-4708-8605-6303c7b88575",
   "metadata": {},
   "source": [
    "![Jupyter terminal opened menu](images/jupyterlab_terminal_opened.jpg)"
   ]
  },
  {
   "cell_type": "markdown",
   "id": "5f188309-43dd-4441-bf08-2d181acb063e",
   "metadata": {},
   "source": [
    " You may open many terminals at one time and manage them as the windows in your browser. Terminal can be shutdowned as well as a Jupyter notebook in `Running Terminals and Kernels` tab."
   ]
  },
  {
   "cell_type": "markdown",
   "id": "b6a8331d-ba73-4336-8c77-696206fd20e9",
   "metadata": {},
   "source": [
    "## Access to terminal in the notebook"
   ]
  },
  {
   "cell_type": "markdown",
   "id": "e196b2b7-0c52-49c1-924b-a798bf959b62",
   "metadata": {},
   "source": [
    "Jupyter Notebooks allow you to get access to the terminal with use of `!` in the cell with code. Let's see how bash command `pwd` (show the current directory):"
   ]
  },
  {
   "cell_type": "code",
   "execution_count": null,
   "id": "83504304-46b5-41c7-b1eb-c2a8d0a591a8",
   "metadata": {},
   "outputs": [],
   "source": [
    "!pwd"
   ]
  },
  {
   "cell_type": "markdown",
   "id": "8eee083d-d350-43a9-8ddb-59de58758266",
   "metadata": {},
   "source": [
    "...and see the system Unix time:"
   ]
  },
  {
   "cell_type": "code",
   "execution_count": null,
   "id": "b9c1d55f-f52a-4e09-bfbe-115d46a94e2f",
   "metadata": {},
   "outputs": [],
   "source": [
    "!date"
   ]
  },
  {
   "cell_type": "markdown",
   "id": "d2e3a9a9-4bc7-4c32-85d8-18799c790d46",
   "metadata": {},
   "source": [
    "Complete list of bash comands with descriptions you can find [here](https://ss64.com/bash/)."
   ]
  },
  {
   "cell_type": "markdown",
   "id": "9e8a9f64-652f-4629-b254-2238164ef30c",
   "metadata": {},
   "source": [
    "## Navigating"
   ]
  },
  {
   "cell_type": "markdown",
   "id": "9bdd5905-c142-4586-82c8-323a18c3d42d",
   "metadata": {},
   "source": [
    "Let's list all the directory files with `ls` command:"
   ]
  },
  {
   "cell_type": "code",
   "execution_count": null,
   "id": "8ff0586a-b9bb-4b36-9bde-1d8a54e02912",
   "metadata": {},
   "outputs": [],
   "source": [
    "# (list) - to find out what is in the directory\n",
    "\n",
    "!ls -l"
   ]
  },
  {
   "cell_type": "code",
   "execution_count": null,
   "id": "20fcc077-3d52-42b6-a064-972832c1b5c9",
   "metadata": {},
   "outputs": [],
   "source": [
    "# list hidden files & directories as well \n",
    "\n",
    "!ls -a"
   ]
  },
  {
   "cell_type": "code",
   "execution_count": null,
   "id": "af74b664-682d-4f7a-ac80-206303be48ac",
   "metadata": {},
   "outputs": [],
   "source": [
    "# list the files and directories with detailed \n",
    "# information like the permissions, size, owner, \n",
    "# group, date of creation, etc\n",
    "\n",
    "!ls -la"
   ]
  },
  {
   "cell_type": "markdown",
   "id": "18fe8cbe-40ce-4a36-baa2-124f23a22890",
   "metadata": {},
   "source": [
    "Move to other directories:"
   ]
  },
  {
   "cell_type": "code",
   "execution_count": null,
   "id": "2670da87-c9f0-4354-8180-a450c96ad42f",
   "metadata": {},
   "outputs": [],
   "source": [
    "# go to the parent directory\n",
    "\n",
    "!cd .."
   ]
  },
  {
   "cell_type": "markdown",
   "id": "c56dc3c3-65e3-42e8-82a6-6cd44b523f54",
   "metadata": {},
   "source": [
    "...there is no output, because we are not in the terminal. But you can combine commands with `&&`. Here is an example how to move to parent directory and list files in it:"
   ]
  },
  {
   "cell_type": "code",
   "execution_count": null,
   "id": "82ba9ede-8534-420f-a626-3429eeed9b7e",
   "metadata": {
    "scrolled": true
   },
   "outputs": [],
   "source": [
    "!cd .. && ls"
   ]
  },
  {
   "cell_type": "markdown",
   "id": "1d207e9e-9f5f-4eed-a26b-7dd36d6267e8",
   "metadata": {},
   "source": [
    "We can count files in the directory with the following command:"
   ]
  },
  {
   "cell_type": "code",
   "execution_count": null,
   "id": "5cba4382-3e57-42f4-b1bd-b5c914beb61c",
   "metadata": {},
   "outputs": [],
   "source": [
    "# first part of commands `ls` lists all files, directories etc.\n",
    "# while the second command `wc` counts lines\n",
    "\n",
    "!ls -la | wc -l"
   ]
  },
  {
   "cell_type": "markdown",
   "id": "e005db1c-cc9b-4dab-8f0b-422c7a05070a",
   "metadata": {},
   "source": [
    "Note thet the pipe operator `|` is used. A Unix pipe `|` connects the STDOUT (standard output) file descriptor of the first process to the STDIN (standard input) of the second."
   ]
  },
  {
   "cell_type": "markdown",
   "id": "50150435-6b1b-40bd-8f9b-fb4b6a463d30",
   "metadata": {},
   "source": [
    "## Creating files and directories"
   ]
  },
  {
   "cell_type": "markdown",
   "id": "6cadee34-19e6-44b4-9839-02b538f80a37",
   "metadata": {},
   "source": [
    "Creating directory named `testdir` with `mkdir` command:"
   ]
  },
  {
   "cell_type": "code",
   "execution_count": null,
   "id": "701dcee2-d725-472f-ba99-88be813e28de",
   "metadata": {},
   "outputs": [],
   "source": [
    "!mkdir testdir"
   ]
  },
  {
   "cell_type": "markdown",
   "id": "24cdbff1-9f0a-4b3f-a2e4-1bc9dbabe10d",
   "metadata": {},
   "source": [
    "...and listing the result (you may find new `testdir` directory):"
   ]
  },
  {
   "cell_type": "code",
   "execution_count": null,
   "id": "2991c586-92a3-4cb5-b0ab-972ce15f5ece",
   "metadata": {},
   "outputs": [],
   "source": [
    "!ls"
   ]
  },
  {
   "cell_type": "markdown",
   "id": "17f66f7a-d375-4ec1-8c24-5f64793bd71a",
   "metadata": {},
   "source": [
    "Now we can create an empty file with name `testfile.txt` with `touch` command:"
   ]
  },
  {
   "cell_type": "code",
   "execution_count": null,
   "id": "45063154-cab1-457a-aae5-23c934196f10",
   "metadata": {},
   "outputs": [],
   "source": [
    "!touch testfile.txt"
   ]
  },
  {
   "cell_type": "markdown",
   "id": "0ace0f3c-e308-46a0-a766-0a864846c2b7",
   "metadata": {},
   "source": [
    "...check if file is created:"
   ]
  },
  {
   "cell_type": "code",
   "execution_count": null,
   "id": "499433d9-0b18-46f8-a5a4-6779d9f0092e",
   "metadata": {},
   "outputs": [],
   "source": [
    "!ls"
   ]
  },
  {
   "cell_type": "markdown",
   "id": "a944c23f-33d8-4698-a9bc-5734d9aff1b7",
   "metadata": {},
   "source": [
    "To see what is in file you may use `cat` command:"
   ]
  },
  {
   "cell_type": "code",
   "execution_count": null,
   "id": "9f887a4c-0dab-4fae-a4c8-44b08ebf94f0",
   "metadata": {},
   "outputs": [],
   "source": [
    "!cat testfile.txt"
   ]
  },
  {
   "cell_type": "markdown",
   "id": "436846a7-7441-4be1-8b64-defe14124698",
   "metadata": {},
   "source": [
    "There is nothing in the file because it was created empty. Let's append a rows with date in it. We use command `>>` to append a string to the end of file. NOTE that we use `&&` to combine commands and run one after another:"
   ]
  },
  {
   "cell_type": "code",
   "execution_count": null,
   "id": "50f25866-651a-423c-8d5f-957bfa37c4a2",
   "metadata": {},
   "outputs": [],
   "source": [
    "# put the date to the file\n",
    "\n",
    "!date >> testfile.txt && cat testfile.txt"
   ]
  },
  {
   "cell_type": "markdown",
   "id": "738b9977-8734-4846-95ba-318ed196ce43",
   "metadata": {},
   "source": [
    "...one more row (now with `echo` command):"
   ]
  },
  {
   "cell_type": "code",
   "execution_count": null,
   "id": "c8b2591e-b3e8-4426-8d75-7d9e2ac4772f",
   "metadata": {},
   "outputs": [],
   "source": [
    "# move some data to the output\n",
    "\n",
    "!echo some text"
   ]
  },
  {
   "cell_type": "code",
   "execution_count": null,
   "id": "7f7196c3-e46b-43cb-9858-dd6743220883",
   "metadata": {},
   "outputs": [],
   "source": [
    "# redirects the output from the screen to a file\n",
    "# and then displays the content of the file\n",
    "\n",
    "!echo \"I can append to file!!!\" >> testfile.txt && cat testfile.txt"
   ]
  },
  {
   "cell_type": "markdown",
   "id": "51a04399-6224-466b-8710-55ec32b4fbea",
   "metadata": {},
   "source": [
    "Let's copy content from one file to another:"
   ]
  },
  {
   "cell_type": "code",
   "execution_count": null,
   "id": "007cb5b1-61bb-4ddd-8b1e-6583465113bc",
   "metadata": {},
   "outputs": [],
   "source": [
    "!echo \"some text to add\" > addtext.txt\n",
    "!ls -la"
   ]
  },
  {
   "cell_type": "code",
   "execution_count": null,
   "id": "4a472374-e245-4d47-b0d5-359260f03c7b",
   "metadata": {},
   "outputs": [],
   "source": [
    "# first line prints output of one file and appends it to another\n",
    "# second line displays content of an appendd file\n",
    "\n",
    "!cat addtext.txt >> testfile.txt\n",
    "!cat testfile.txt"
   ]
  },
  {
   "cell_type": "markdown",
   "id": "3936cdfe-fe17-42c2-aa1e-c46f062ee441",
   "metadata": {},
   "source": [
    "## Copy and move files "
   ]
  },
  {
   "cell_type": "markdown",
   "id": "a1330786-1ee3-45ee-8322-eebf0e0d7792",
   "metadata": {},
   "source": [
    "There is `cp` command for copying files and directories. Copy our created `testfile.txt` to a new file `testfile_copy.txt` in the `testdir` directory:"
   ]
  },
  {
   "cell_type": "code",
   "execution_count": null,
   "id": "5f1de180-bda7-4b53-9f61-47106401b664",
   "metadata": {},
   "outputs": [],
   "source": [
    "!cp testfile.txt testdir/testfile_copy.txt"
   ]
  },
  {
   "cell_type": "markdown",
   "id": "e8577ffc-d531-44fa-a330-78b17bdc13ce",
   "metadata": {},
   "source": [
    "...and list the `testdir` directory:"
   ]
  },
  {
   "cell_type": "code",
   "execution_count": null,
   "id": "969dd39e-2a34-4881-8c8b-c2325f3af700",
   "metadata": {},
   "outputs": [],
   "source": [
    "!ls testdir/"
   ]
  },
  {
   "cell_type": "markdown",
   "id": "d528d372-5981-4889-969c-ae259e14bee3",
   "metadata": {},
   "source": [
    "Now will move `testfile.txt` to the `testdir` directory with `mv` command:"
   ]
  },
  {
   "cell_type": "code",
   "execution_count": null,
   "id": "00382b4e-a0b3-4f29-92e8-e556744885c5",
   "metadata": {},
   "outputs": [],
   "source": [
    "!mv testfile.txt testdir/"
   ]
  },
  {
   "cell_type": "code",
   "execution_count": null,
   "id": "e32d2f65-5b5c-4026-9357-3962a0a4200e",
   "metadata": {},
   "outputs": [],
   "source": [
    "!ls testdir/"
   ]
  },
  {
   "cell_type": "markdown",
   "id": "ce9e64d4-ba95-441f-92a3-df092fddc9be",
   "metadata": {},
   "source": [
    "## Deleting files and directories"
   ]
  },
  {
   "cell_type": "markdown",
   "id": "069042ab-edc6-4912-b7b7-6c9b712121bb",
   "metadata": {},
   "source": [
    "__NOTE__: _be careful while deleting files and directories, you are not in Windows and you do not have Trash Bin! You will not be asked wheither to delete files or not, your command just deletes everything you asked FOREVER._"
   ]
  },
  {
   "cell_type": "markdown",
   "id": "dd6e040e-7a17-4672-a303-dd44d414f60b",
   "metadata": {},
   "source": [
    "If you still want to try removing some files and directories, you may use `rm` command e.g. to delete `testfile.txt` in the `testdir`:"
   ]
  },
  {
   "cell_type": "code",
   "execution_count": null,
   "id": "9b42dc58-5a13-40e7-97e8-32827d5ddda5",
   "metadata": {},
   "outputs": [],
   "source": [
    "!rm addtext.txt"
   ]
  },
  {
   "cell_type": "code",
   "execution_count": null,
   "id": "d2272759-5881-4b50-bff3-eb5ef2b5b230",
   "metadata": {},
   "outputs": [],
   "source": [
    "!rm testdir/testfile.txt"
   ]
  },
  {
   "cell_type": "markdown",
   "id": "2683ef89-bfe1-439e-86a3-cc5ba1f358d9",
   "metadata": {},
   "source": [
    "...there is only copy of the file left:"
   ]
  },
  {
   "cell_type": "code",
   "execution_count": null,
   "id": "76664897-ae2b-4d9a-adbb-1b9492767472",
   "metadata": {},
   "outputs": [],
   "source": [
    "!ls testdir/"
   ]
  },
  {
   "cell_type": "markdown",
   "id": "1009c1f7-990f-46f1-8211-256a3007d8ba",
   "metadata": {},
   "source": [
    "Now will delete the directory `testdir` itself:"
   ]
  },
  {
   "cell_type": "code",
   "execution_count": null,
   "id": "2a640762-b874-48ed-9f20-1572cc11ae0e",
   "metadata": {},
   "outputs": [],
   "source": [
    "!rm -rf testdir/"
   ]
  },
  {
   "cell_type": "markdown",
   "id": "dc983e8b-09cd-4281-a9da-67a48a266e90",
   "metadata": {},
   "source": [
    "Note that key `-rf` was used to delete all the files in the directory recursively."
   ]
  },
  {
   "cell_type": "markdown",
   "id": "562d49bf-8b2b-427b-8b77-665c6287aad0",
   "metadata": {},
   "source": [
    "## More commands"
   ]
  },
  {
   "cell_type": "markdown",
   "id": "31c08f71-d179-43ac-935e-fe567e5acaa4",
   "metadata": {},
   "source": [
    "Some more useful Unix shell commands:"
   ]
  },
  {
   "cell_type": "code",
   "execution_count": null,
   "id": "97957df5-68ff-4527-bcfe-a580438c218a",
   "metadata": {},
   "outputs": [],
   "source": [
    "# help for anything\n",
    "\n",
    "!man ls"
   ]
  },
  {
   "cell_type": "code",
   "execution_count": null,
   "id": "f32803e4-8b31-4ebf-981f-92ed364935cc",
   "metadata": {},
   "outputs": [],
   "source": [
    "# command that prints the effective user id\n",
    "# NOTE that it gives a tech username, not your actual login\n",
    "\n",
    "!whoami"
   ]
  },
  {
   "cell_type": "code",
   "execution_count": null,
   "id": "f5a542eb-771f-4237-b09b-95ed40bc8269",
   "metadata": {},
   "outputs": [],
   "source": [
    "# prints the user id, user name and user groups data\n",
    "\n",
    "!id"
   ]
  },
  {
   "cell_type": "markdown",
   "id": "f2c79720-d5f4-476f-9939-8843163718e0",
   "metadata": {},
   "source": [
    "## Git integration"
   ]
  },
  {
   "cell_type": "markdown",
   "id": "9e241e61-1593-47a0-a2b8-ea67cba3a600",
   "metadata": {},
   "source": [
    "There is [git](https://git-scm.com/) client installed in the environment, so you may use basis `git` commands:"
   ]
  },
  {
   "cell_type": "code",
   "execution_count": null,
   "id": "878a9efd-5d7a-4de4-941b-ac083ddd2d09",
   "metadata": {},
   "outputs": [],
   "source": [
    "!git help"
   ]
  },
  {
   "cell_type": "code",
   "execution_count": null,
   "id": "93848f07-4f5f-4fd7-b114-6ea273c52508",
   "metadata": {},
   "outputs": [],
   "source": [
    "!git status"
   ]
  },
  {
   "cell_type": "markdown",
   "id": "771316a9-a4e8-4005-a99b-0247a8e4183a",
   "metadata": {},
   "source": [
    "Or you may clone a repository e.g. from [github.com](https://github.com) you need with `git clone` command:"
   ]
  },
  {
   "cell_type": "code",
   "execution_count": null,
   "id": "20bf0701-8a47-4f62-9fbb-26f6c0dae3d7",
   "metadata": {},
   "outputs": [],
   "source": [
    "!git clone https://github.com/jerry-git/learn-python3"
   ]
  },
  {
   "cell_type": "markdown",
   "id": "178a3bdf-85de-4b74-a5e0-ab4377794548",
   "metadata": {},
   "source": [
    "Folder `learn-python3/` with cloned repository `https://github.com/jerry-git/learn-python3` is now created:"
   ]
  },
  {
   "cell_type": "code",
   "execution_count": null,
   "id": "2bfdba37-8da7-452b-b46b-f195e86929e9",
   "metadata": {},
   "outputs": [],
   "source": [
    "!ls learn-python3/"
   ]
  },
  {
   "cell_type": "markdown",
   "id": "3eb92028-7b85-45a4-bb74-47c8061ee2d5",
   "metadata": {},
   "source": [
    "Anyway, it can be deleted:"
   ]
  },
  {
   "cell_type": "code",
   "execution_count": null,
   "id": "7184d97e-c2c6-46d7-85f3-eeeffca7ab41",
   "metadata": {},
   "outputs": [],
   "source": [
    "!rm -rf learn-python3/"
   ]
  },
  {
   "cell_type": "code",
   "execution_count": null,
   "id": "9cd6a3c5-1f56-403e-a9c9-ddcebd1685cd",
   "metadata": {},
   "outputs": [],
   "source": []
  }
 ],
 "metadata": {
  "kernelspec": {
   "display_name": "Python 3 (ipykernel)",
   "language": "python",
   "name": "python3"
  },
  "language_info": {
   "codemirror_mode": {
    "name": "ipython",
    "version": 3
   },
   "file_extension": ".py",
   "mimetype": "text/x-python",
   "name": "python",
   "nbconvert_exporter": "python",
   "pygments_lexer": "ipython3",
   "version": "3.12.7"
  },
  "widgets": {
   "application/vnd.jupyter.widget-state+json": {
    "state": {},
    "version_major": 2,
    "version_minor": 0
   }
  }
 },
 "nbformat": 4,
 "nbformat_minor": 5
}
