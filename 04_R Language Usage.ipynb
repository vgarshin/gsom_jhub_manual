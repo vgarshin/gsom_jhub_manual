{
 "cells": [
  {
   "cell_type": "markdown",
   "metadata": {},
   "source": [
    "# Use of R Language Kernel for JupyterHub"
   ]
  },
  {
   "cell_type": "markdown",
   "metadata": {},
   "source": [
    "You may use [The R Project for Statistical Computing](https://www.r-project.org/) for your projects with Jupyter Notebook interface."
   ]
  },
  {
   "cell_type": "markdown",
   "metadata": {},
   "source": [
    "__NOTE:__ You should start your server with a `R environment` to run R scripts."
   ]
  },
  {
   "cell_type": "markdown",
   "metadata": {},
   "source": [
    "![Jupyter dashboard showing files tab](images/manual_9.png)"
   ]
  },
  {
   "cell_type": "markdown",
   "metadata": {},
   "source": [
    "## R basics"
   ]
  },
  {
   "cell_type": "code",
   "execution_count": null,
   "metadata": {
    "scrolled": false
   },
   "outputs": [],
   "source": [
    "# R session\n",
    "sessionInfo()"
   ]
  },
  {
   "cell_type": "code",
   "execution_count": null,
   "metadata": {},
   "outputs": [],
   "source": [
    "# home directory\n",
    "print(getwd())\n",
    "print(list.files())"
   ]
  },
  {
   "cell_type": "markdown",
   "metadata": {},
   "source": [
    "Let's try to import demo data and build a simple plot:"
   ]
  },
  {
   "cell_type": "code",
   "execution_count": null,
   "metadata": {},
   "outputs": [],
   "source": [
    "setwd('data/')\n",
    "print(list.files())"
   ]
  },
  {
   "cell_type": "code",
   "execution_count": null,
   "metadata": {},
   "outputs": [],
   "source": [
    "table <- read.csv('telecom_churn.csv', sep=',')\n",
    "head(table)"
   ]
  },
  {
   "cell_type": "code",
   "execution_count": null,
   "metadata": {},
   "outputs": [],
   "source": [
    "summary(table)"
   ]
  },
  {
   "cell_type": "code",
   "execution_count": null,
   "metadata": {},
   "outputs": [],
   "source": [
    "hist(table$Total.day.minutes)"
   ]
  },
  {
   "cell_type": "code",
   "execution_count": null,
   "metadata": {},
   "outputs": [],
   "source": [
    "library(ggplot2) \n",
    "ggplot(table, aes(x = Total.day.minutes, y = Total.intl.minutes)) +\n",
    "    geom_point(shape=1) +\n",
    "    geom_smooth(method=lm)"
   ]
  },
  {
   "cell_type": "markdown",
   "metadata": {},
   "source": [
    "## Some hints to install additional packages"
   ]
  },
  {
   "cell_type": "markdown",
   "metadata": {},
   "source": [
    "First of all we will define a helper function `install_packages()` for packages install. The function takes a list of packages to install and processes them:"
   ]
  },
  {
   "cell_type": "code",
   "execution_count": null,
   "metadata": {},
   "outputs": [],
   "source": [
    "install_packages <- function(pkg){\n",
    "    new.pkg <- pkg[!(pkg %in% installed.packages()[, 'Package'])]\n",
    "    print(new.pkg)\n",
    "    if (length(new.pkg))\n",
    "        install.packages(new.pkg, verbose = TRUE)\n",
    "}"
   ]
  },
  {
   "cell_type": "markdown",
   "metadata": {},
   "source": [
    "Then we take a list of needed packages (libraries) and call the function (it takes a long time to install all the libraries):"
   ]
  },
  {
   "cell_type": "code",
   "execution_count": null,
   "metadata": {},
   "outputs": [],
   "source": [
    "packages <- c(\n",
    "    'agricolae',\n",
    "    'BSDA',\n",
    "    'car',\n",
    "    'EnvStats',\n",
    "    'MultNonParam',\n",
    "    'nortest',\n",
    "    'qcc',\n",
    "    'radarchart'\n",
    ")\n",
    "install_packages(packages)"
   ]
  },
  {
   "cell_type": "markdown",
   "metadata": {},
   "source": [
    "Now will check if all libraries are imported correctly:"
   ]
  },
  {
   "cell_type": "code",
   "execution_count": null,
   "metadata": {},
   "outputs": [],
   "source": [
    "library(agricolae) \n",
    "library(BSDA) \n",
    "library(car) \n",
    "library(dplyr) \n",
    "library(e1071) \n",
    "library(EnvStats) \n",
    "library(ggplot2) \n",
    "library(lattice) \n",
    "library(lmtest) \n",
    "library(MultNonParam) \n",
    "library(nortest) \n",
    "library(qcc) \n",
    "library(radarchart) \n",
    "library(stats)"
   ]
  },
  {
   "cell_type": "markdown",
   "metadata": {},
   "source": [
    "You can also list out the versions of the packages:"
   ]
  },
  {
   "cell_type": "code",
   "execution_count": null,
   "metadata": {},
   "outputs": [],
   "source": [
    "packages <- c(\n",
    "    'agricolae',\n",
    "    'BSDA',\n",
    "    'dplyr',\n",
    "    'e1071',\n",
    "    'EnvStats',\n",
    "    'ggplot2',\n",
    "    'lattice',\n",
    "    'lmtest',\n",
    "    'nortest',\n",
    "    'qcc',\n",
    "    'radarchart',\n",
    "    'stats'\n",
    ")\n",
    "for (pkg in packages)\n",
    "{\n",
    "    print(paste(\"package name:\", pkg, \"| version:\", packageVersion(pkg), sep=\" \"))\n",
    "}"
   ]
  },
  {
   "cell_type": "code",
   "execution_count": null,
   "metadata": {},
   "outputs": [],
   "source": []
  }
 ],
 "metadata": {
  "kernelspec": {
   "display_name": "R",
   "language": "R",
   "name": "ir"
  },
  "language_info": {
   "codemirror_mode": "r",
   "file_extension": ".r",
   "mimetype": "text/x-r-source",
   "name": "R",
   "pygments_lexer": "r",
   "version": "4.0.3"
  }
 },
 "nbformat": 4,
 "nbformat_minor": 4
}
