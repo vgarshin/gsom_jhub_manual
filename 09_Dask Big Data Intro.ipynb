{
 "cells": [
  {
   "cell_type": "markdown",
   "id": "71dd2d8c",
   "metadata": {},
   "source": [
    "# Dask: Introduction to Framework"
   ]
  },
  {
   "cell_type": "markdown",
   "id": "74c1498f",
   "metadata": {},
   "source": [
    "[Dask](https://dask.org/) is a framework that scales Python packages (like Pandas, Scikit-Learn, Numpy) and the surrounding ecosystem. It works with the existing Python ecosystem to scale it to multi-core machines and distributed clusters."
   ]
  },
  {
   "cell_type": "markdown",
   "id": "bf22b4a5",
   "metadata": {},
   "source": [
    "## Import Dask and get access to Dask dashboard"
   ]
  },
  {
   "cell_type": "code",
   "execution_count": null,
   "id": "418e0f8b",
   "metadata": {},
   "outputs": [],
   "source": [
    "import os\n",
    "import re\n",
    "import json\n",
    "import dask\n",
    "import dask.dataframe as dd\n",
    "from dask.distributed import Client, LocalCluster, progress"
   ]
  },
  {
   "cell_type": "markdown",
   "id": "855dddce",
   "metadata": {},
   "source": [
    "Note that you may change `n_workers` and `memory_limit` to manage performance but you should take into account your server (or cluster) resource limits. After running next cell you will get an URL to the Dask dashboard:"
   ]
  },
  {
   "cell_type": "code",
   "execution_count": null,
   "id": "b01c2fbc",
   "metadata": {},
   "outputs": [],
   "source": [
    "client = Client(\n",
    "    n_workers=2,\n",
    "    threads_per_worker=1,\n",
    "    memory_limit='4GB'\n",
    ")\n",
    "print(\n",
    "    'Dask dashboard available at:',\n",
    "    'https://{}{}proxy/{}/status'.format(\n",
    "        os.environ['JUPYTERHUB_HOST_NAME'],\n",
    "        os.environ['JUPYTERHUB_SERVICE_PREFIX'],\n",
    "        client.scheduler_info()['services']['dashboard']\n",
    "    )\n",
    ")\n",
    "client"
   ]
  },
  {
   "cell_type": "markdown",
   "id": "5a3c266f",
   "metadata": {},
   "source": [
    "## Read data"
   ]
  },
  {
   "cell_type": "markdown",
   "id": "a27d7f98",
   "metadata": {},
   "source": [
    "Read file from local disk:"
   ]
  },
  {
   "cell_type": "code",
   "execution_count": null,
   "id": "b56ed9d2",
   "metadata": {},
   "outputs": [],
   "source": [
    "ddf = dd.read_csv('./data/telecom_churn.csv', sep=',')\n",
    "ddf.head()"
   ]
  },
  {
   "cell_type": "code",
   "execution_count": null,
   "id": "c5161c29",
   "metadata": {},
   "outputs": [],
   "source": [
    "ddf.describe()"
   ]
  },
  {
   "cell_type": "code",
   "execution_count": null,
   "id": "0f5a89c7",
   "metadata": {},
   "outputs": [],
   "source": [
    "print('all columns:', ddf.columns)"
   ]
  },
  {
   "cell_type": "markdown",
   "id": "d20bece3",
   "metadata": {},
   "source": [
    "## Basic operations examples"
   ]
  },
  {
   "cell_type": "markdown",
   "id": "cc29cfd3",
   "metadata": {},
   "source": [
    "Group by `State` column and count values:"
   ]
  },
  {
   "cell_type": "code",
   "execution_count": null,
   "id": "b197fece",
   "metadata": {},
   "outputs": [],
   "source": [
    "ddf.groupby('State').State.count().compute().head(5)"
   ]
  },
  {
   "cell_type": "markdown",
   "id": "7f73f048",
   "metadata": {},
   "source": [
    "Display unique values of `Churn` column:"
   ]
  },
  {
   "cell_type": "code",
   "execution_count": null,
   "id": "7f7fd8bc",
   "metadata": {},
   "outputs": [],
   "source": [
    "ddf.Churn.unique().compute()"
   ]
  },
  {
   "cell_type": "markdown",
   "id": "2d15218a",
   "metadata": {},
   "source": [
    "Apply function to dataframe column:"
   ]
  },
  {
   "cell_type": "code",
   "execution_count": null,
   "id": "de1f0e3f",
   "metadata": {},
   "outputs": [],
   "source": [
    "def one_hot(text):\n",
    "    if text == 'False':\n",
    "        return 0\n",
    "    elif text == 'True':\n",
    "        return 1\n",
    "    else:\n",
    "        return 2\n",
    "\n",
    "ddf = ddf.assign(Churn_OH=ddf.Churn.map(lambda x: one_hot(x), meta=('x', str)))"
   ]
  },
  {
   "cell_type": "code",
   "execution_count": null,
   "id": "f5d4d512",
   "metadata": {},
   "outputs": [],
   "source": [
    "ddf.compute()"
   ]
  },
  {
   "cell_type": "code",
   "execution_count": null,
   "id": "c144aa18",
   "metadata": {},
   "outputs": [],
   "source": []
  }
 ],
 "metadata": {
  "kernelspec": {
   "display_name": "Python 3 (ipykernel)",
   "language": "python",
   "name": "python3"
  },
  "language_info": {
   "codemirror_mode": {
    "name": "ipython",
    "version": 3
   },
   "file_extension": ".py",
   "mimetype": "text/x-python",
   "name": "python",
   "nbconvert_exporter": "python",
   "pygments_lexer": "ipython3",
   "version": "3.11.10"
  },
  "widgets": {
   "application/vnd.jupyter.widget-state+json": {
    "state": {},
    "version_major": 2,
    "version_minor": 0
   }
  }
 },
 "nbformat": 4,
 "nbformat_minor": 5
}
