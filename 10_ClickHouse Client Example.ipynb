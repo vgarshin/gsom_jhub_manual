{
 "cells": [
  {
   "cell_type": "markdown",
   "metadata": {},
   "source": [
    "# ClickHouse: how to access from JupyterHub"
   ]
  },
  {
   "cell_type": "markdown",
   "metadata": {},
   "source": [
    "[ClickHouse®](https://clickhouse.tech/) is a fast open-source OLAP database management system. It is column-oriented and allows to generate analytical reports using SQL queries in real-time.\n",
    "\n",
    "We have a local installation of ClickHouse database that collects logs from [GSOM site](https://gsom.spbu.ru/) and is available in read-only format for you to learn how to use ClickHouse in your tasks."
   ]
  },
  {
   "cell_type": "markdown",
   "metadata": {},
   "source": [
    "## Import libraries and set access parameters"
   ]
  },
  {
   "cell_type": "code",
   "execution_count": null,
   "metadata": {},
   "outputs": [],
   "source": [
    "import os\n",
    "import json\n",
    "import requests\n",
    "import pandas as pd\n",
    "pd.set_option('display.max_columns', None)"
   ]
  },
  {
   "cell_type": "markdown",
   "metadata": {},
   "source": [
    "Set host and port to get to database. ClickHouse has no external IP address, so it is available only from JupyterHub notebooks:"
   ]
  },
  {
   "cell_type": "code",
   "execution_count": null,
   "metadata": {},
   "outputs": [],
   "source": [
    "CH_HOST = 'http://10.129.0.30'\n",
    "CH_PORT = '8123'\n",
    "SSL_VERIFY = True"
   ]
  },
  {
   "cell_type": "markdown",
   "metadata": {},
   "source": [
    "## How to access"
   ]
  },
  {
   "cell_type": "markdown",
   "metadata": {},
   "source": [
    "Our main function for access to ClickHouse will take parameters like database host, username, password, query and will returd data from database:"
   ]
  },
  {
   "cell_type": "code",
   "execution_count": null,
   "metadata": {},
   "outputs": [],
   "source": [
    "def get_data(query, host, user_name, user_passwd):\n",
    "    if (user_name == '') and (user_passwd == ''):\n",
    "        r = requests.post(host, params=query_dict, verify=SSL_VERIFY)\n",
    "    else:\n",
    "        r = requests.post(host, data=query,\n",
    "                          auth=(user_name, user_passwd), verify=SSL_VERIFY)\n",
    "    print('request status code:', r.status_code)\n",
    "    return r.text"
   ]
  },
  {
   "cell_type": "markdown",
   "metadata": {},
   "source": [
    "ClickHouse uses [SQL syntax](https://clickhouse.tech/docs/en/sql-reference/syntax/) for its queries, so let's define our first query:"
   ]
  },
  {
   "cell_type": "code",
   "execution_count": null,
   "metadata": {},
   "outputs": [],
   "source": [
    "query = 'SHOW DATABASES'"
   ]
  },
  {
   "cell_type": "markdown",
   "metadata": {},
   "source": [
    "...and put it to function:"
   ]
  },
  {
   "cell_type": "code",
   "execution_count": null,
   "metadata": {},
   "outputs": [],
   "source": [
    "data = get_data(query=query, \n",
    "                host=':'.join([CH_HOST, CH_PORT]),\n",
    "                user_name=os.environ['CLICKHOUSE_USER'],\n",
    "                user_passwd=os.environ['CLICKHOUSE_PASSWORD'])"
   ]
  },
  {
   "cell_type": "markdown",
   "metadata": {},
   "source": [
    "__NOTE:__ Username (or login) and password are stored in environment variables `CLICKHOUSE_USER`, `CLICKHOUSE_PASSWORD` for safety and are available through `os` library as `os.environ['<ENV_VARIABLE_NAME>']`."
   ]
  },
  {
   "cell_type": "markdown",
   "metadata": {},
   "source": [
    "The data from database is returnes as string, so postprocessing is needed:"
   ]
  },
  {
   "cell_type": "code",
   "execution_count": null,
   "metadata": {},
   "outputs": [],
   "source": [
    "data = [x.split('\\t') for x in data.split('\\n')]\n",
    "pd.DataFrame(data)"
   ]
  },
  {
   "cell_type": "markdown",
   "metadata": {},
   "source": [
    "## Example queries"
   ]
  },
  {
   "cell_type": "markdown",
   "metadata": {},
   "source": [
    "Now we know what databases are in ClickHouse. Build a more complicated query to obtain names of all tables in database:"
   ]
  },
  {
   "cell_type": "code",
   "execution_count": null,
   "metadata": {},
   "outputs": [],
   "source": [
    "query = 'SHOW TABLES FROM gsomlogs'"
   ]
  },
  {
   "cell_type": "code",
   "execution_count": null,
   "metadata": {},
   "outputs": [],
   "source": [
    "data = get_data(query=query, \n",
    "                host=':'.join([CH_HOST, CH_PORT]),\n",
    "                user_name=os.environ['CLICKHOUSE_USER'],\n",
    "                user_passwd=os.environ['CLICKHOUSE_PASSWORD'])\n",
    "data = [x.split('\\t') for x in data.split('\\n')]\n",
    "pd.DataFrame(data)"
   ]
  },
  {
   "cell_type": "markdown",
   "metadata": {},
   "source": [
    "Let's get fields of selected table:"
   ]
  },
  {
   "cell_type": "code",
   "execution_count": null,
   "metadata": {},
   "outputs": [],
   "source": [
    "query = 'SHOW CREATE TABLE gsomlogs.hits_all'"
   ]
  },
  {
   "cell_type": "code",
   "execution_count": null,
   "metadata": {},
   "outputs": [],
   "source": [
    "query = 'show create table gsomlogs.hits_all'\n",
    "data = get_data(query=query, \n",
    "                host=':'.join([CH_HOST, CH_PORT]),\n",
    "                user_name=os.environ['CLICKHOUSE_USER'],\n",
    "                user_passwd=os.environ['CLICKHOUSE_PASSWORD'])\n",
    "print()\n",
    "for x in data.split('\\\\n'):\n",
    "    print(x)"
   ]
  },
  {
   "cell_type": "markdown",
   "metadata": {},
   "source": [
    "Now we are ready to deep dive into data in tables (but for the demo will limit our query for the first 5 rows):"
   ]
  },
  {
   "cell_type": "code",
   "execution_count": null,
   "metadata": {},
   "outputs": [],
   "source": [
    "query = 'SELECT * FROM gsomlogs.visits_all ORDER BY DateTime DESC LIMIT 5'"
   ]
  },
  {
   "cell_type": "code",
   "execution_count": null,
   "metadata": {},
   "outputs": [],
   "source": [
    "data = get_data(query=query, \n",
    "                host=':'.join([CH_HOST, CH_PORT]),\n",
    "                user_name=os.environ['CLICKHOUSE_USER'],\n",
    "                user_passwd=os.environ['CLICKHOUSE_PASSWORD'])\n",
    "data = [x.split('\\t') for x in data.split('\\n')]\n",
    "df = pd.DataFrame(data)\n",
    "df.head()"
   ]
  },
  {
   "cell_type": "code",
   "execution_count": null,
   "metadata": {},
   "outputs": [],
   "source": [
    "query = 'SELECT * FROM gsomlogs.hits_all ORDER BY DateTime DESC LIMIT 5'"
   ]
  },
  {
   "cell_type": "code",
   "execution_count": null,
   "metadata": {},
   "outputs": [],
   "source": [
    "data = get_data(query=query, \n",
    "                host=':'.join([CH_HOST, CH_PORT]),\n",
    "                user_name=os.environ['CLICKHOUSE_USER'],\n",
    "                user_passwd=os.environ['CLICKHOUSE_PASSWORD'])\n",
    "data = [x.split('\\t') for x in data.split('\\n')]\n",
    "df = pd.DataFrame(data)\n",
    "df.head()"
   ]
  },
  {
   "cell_type": "code",
   "execution_count": null,
   "metadata": {},
   "outputs": [],
   "source": []
  },
  {
   "cell_type": "code",
   "execution_count": null,
   "metadata": {},
   "outputs": [],
   "source": []
  }
 ],
 "metadata": {
  "kernelspec": {
   "display_name": "Python 3",
   "language": "python",
   "name": "python3"
  },
  "language_info": {
   "codemirror_mode": {
    "name": "ipython",
    "version": 3
   },
   "file_extension": ".py",
   "mimetype": "text/x-python",
   "name": "python",
   "nbconvert_exporter": "python",
   "pygments_lexer": "ipython3",
   "version": "3.8.6"
  }
 },
 "nbformat": 4,
 "nbformat_minor": 4
}
