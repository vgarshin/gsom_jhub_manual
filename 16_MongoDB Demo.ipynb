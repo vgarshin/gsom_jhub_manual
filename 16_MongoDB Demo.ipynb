{
 "cells": [
  {
   "cell_type": "markdown",
   "id": "maritime-stretch",
   "metadata": {},
   "source": [
    "# MongoDB demo"
   ]
  },
  {
   "cell_type": "markdown",
   "id": "fancy-potter",
   "metadata": {},
   "source": [
    "## Intro"
   ]
  },
  {
   "cell_type": "markdown",
   "id": "fancy-deposit",
   "metadata": {},
   "source": [
    "__NOTE:__ for this notebook you should start your server with `MongoDB environment`."
   ]
  },
  {
   "cell_type": "markdown",
   "id": "aquatic-tulsa",
   "metadata": {},
   "source": [
    "![Apache Airflow in a box](images/mongodb_env.png)"
   ]
  },
  {
   "cell_type": "markdown",
   "id": "enormous-particle",
   "metadata": {},
   "source": [
    "[MongoDB](https://www.mongodb.com/) is a source-available cross-platform document-oriented database program. Classified as a NoSQL database program, MongoDB uses JSON-like documents with optional schemas."
   ]
  },
  {
   "cell_type": "markdown",
   "id": "specified-trout",
   "metadata": {},
   "source": [
    "## MongoDB client"
   ]
  },
  {
   "cell_type": "markdown",
   "id": "7558431e",
   "metadata": {},
   "source": [
    "Python library [PyMongo](https://pymongo.readthedocs.io) is used to get access to MongoDB demo database. The first step when working with PyMongo is to create a MongoClient to the running mongod instance:"
   ]
  },
  {
   "cell_type": "code",
   "execution_count": null,
   "id": "cubic-thread",
   "metadata": {},
   "outputs": [],
   "source": [
    "from pymongo import MongoClient\n",
    "\n",
    "client = MongoClient() # default setting\n",
    "client"
   ]
  },
  {
   "cell_type": "markdown",
   "id": "9f2403a6",
   "metadata": {},
   "source": [
    "A single instance of MongoDB can support multiple independent databases. Connect to `test-database` database:"
   ]
  },
  {
   "cell_type": "code",
   "execution_count": null,
   "id": "3bec40e0",
   "metadata": {},
   "outputs": [],
   "source": [
    "db = client['test-database']\n",
    "db"
   ]
  },
  {
   "cell_type": "markdown",
   "id": "4d61a86a",
   "metadata": {},
   "source": [
    "A collection is a group of documents stored in MongoDB, and can be thought of as roughly the equivalent of a table in a relational database. Here is an example how to get a collection:"
   ]
  },
  {
   "cell_type": "code",
   "execution_count": null,
   "id": "32043ff3",
   "metadata": {},
   "outputs": [],
   "source": [
    "collection = db['test_collection']\n",
    "collection"
   ]
  },
  {
   "cell_type": "markdown",
   "id": "409b50cc",
   "metadata": {},
   "source": [
    "## Working with documents"
   ]
  },
  {
   "cell_type": "markdown",
   "id": "93237c17",
   "metadata": {},
   "source": [
    "### Insert a document"
   ]
  },
  {
   "cell_type": "markdown",
   "id": "96732b47",
   "metadata": {},
   "source": [
    "Data in MongoDB is represented (and stored) using JSON-style documents. In PyMongo we use dictionaries to represent documents:"
   ]
  },
  {
   "cell_type": "code",
   "execution_count": null,
   "id": "7de42259",
   "metadata": {},
   "outputs": [],
   "source": [
    "import datetime\n",
    "\n",
    "post = {\n",
    "    'author': 'Mike',\n",
    "    'text': 'My first blog post!',\n",
    "    'tags': ['mongodb', 'python', 'pymongo'],\n",
    "    'date': datetime.datetime.now()\n",
    "}\n",
    "post"
   ]
  },
  {
   "cell_type": "markdown",
   "id": "b935d97a",
   "metadata": {},
   "source": [
    "To insert a document into a collection `posts` we can use the `insert_one()` method:"
   ]
  },
  {
   "cell_type": "code",
   "execution_count": null,
   "id": "1b97c9c9",
   "metadata": {},
   "outputs": [],
   "source": [
    "# new collection 'posts'\n",
    "posts = db['posts']\n",
    "# insert a document\n",
    "post_id = posts.insert_one(post).inserted_id\n",
    "post_id"
   ]
  },
  {
   "cell_type": "markdown",
   "id": "de2f6b84",
   "metadata": {},
   "source": [
    "After inserting the first document, the posts collection has actually been created on the server. We can verify this by listing all of the collections in our database:"
   ]
  },
  {
   "cell_type": "code",
   "execution_count": null,
   "id": "788c9085",
   "metadata": {},
   "outputs": [],
   "source": [
    "db.list_collection_names()"
   ]
  },
  {
   "cell_type": "markdown",
   "id": "57d9633a",
   "metadata": {},
   "source": [
    "Now we see an inserted document (with use `find_one()` method):"
   ]
  },
  {
   "cell_type": "code",
   "execution_count": null,
   "id": "71093ad7",
   "metadata": {},
   "outputs": [],
   "source": [
    "posts.find_one()"
   ]
  },
  {
   "cell_type": "markdown",
   "id": "4b8f02a7",
   "metadata": {},
   "source": [
    "## Insert many documents"
   ]
  },
  {
   "cell_type": "markdown",
   "id": "9d75f7c4",
   "metadata": {},
   "source": [
    "We can also perform bulk insert operations, by passing a list as the first argument to `insert_many()`:"
   ]
  },
  {
   "cell_type": "code",
   "execution_count": null,
   "id": "e949fd34",
   "metadata": {},
   "outputs": [],
   "source": [
    "new_posts = [\n",
    "    {\n",
    "        'author': 'Mike',\n",
    "        'text': 'Another post!',\n",
    "        'tags': ['bulk', 'insert'],\n",
    "        'date': datetime.datetime.now()\n",
    "    },\n",
    "    {\n",
    "        'author': 'Eliot',\n",
    "        'title': 'MongoDB is fun',\n",
    "        'text': 'and pretty easy too!',\n",
    "        'date': datetime.datetime.utcnow()\n",
    "    }\n",
    "]\n",
    "result = posts.insert_many(new_posts)\n",
    "result.inserted_ids"
   ]
  },
  {
   "cell_type": "markdown",
   "id": "a4c8f810",
   "metadata": {},
   "source": [
    "Display all records in database:"
   ]
  },
  {
   "cell_type": "code",
   "execution_count": null,
   "id": "74660001",
   "metadata": {},
   "outputs": [],
   "source": [
    "for post in posts.find():\n",
    "    print(post)"
   ]
  },
  {
   "cell_type": "markdown",
   "id": "cc23b055",
   "metadata": {},
   "source": [
    "Or we can use `find(...)` to find records by condition: "
   ]
  },
  {
   "cell_type": "code",
   "execution_count": null,
   "id": "13fe6e48",
   "metadata": {},
   "outputs": [],
   "source": [
    "for post in posts.find({'author': 'Mike'}):\n",
    "    print(post)"
   ]
  },
  {
   "cell_type": "markdown",
   "id": "d6e95b77",
   "metadata": {},
   "source": [
    "If we just want to know how many documents match a query we can perform a `count_documents()` operation instead of a full query:"
   ]
  },
  {
   "cell_type": "code",
   "execution_count": null,
   "id": "a70fcf9c",
   "metadata": {},
   "outputs": [],
   "source": [
    "posts.count_documents({})"
   ]
  },
  {
   "cell_type": "code",
   "execution_count": null,
   "id": "a662f782",
   "metadata": {},
   "outputs": [],
   "source": []
  }
 ],
 "metadata": {
  "kernelspec": {
   "display_name": "Python 3 (ipykernel)",
   "language": "python",
   "name": "python3"
  },
  "language_info": {
   "codemirror_mode": {
    "name": "ipython",
    "version": 3
   },
   "file_extension": ".py",
   "mimetype": "text/x-python",
   "name": "python",
   "nbconvert_exporter": "python",
   "pygments_lexer": "ipython3",
   "version": "3.9.6"
  }
 },
 "nbformat": 4,
 "nbformat_minor": 5
}
