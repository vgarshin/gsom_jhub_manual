{
 "cells": [
  {
   "cell_type": "markdown",
   "id": "distinct-morocco",
   "metadata": {},
   "source": [
    "# How to Install Packages"
   ]
  },
  {
   "cell_type": "markdown",
   "id": "developing-leisure",
   "metadata": {},
   "source": [
    "JupyterHub is installed with a many popular packages and libraries, but you may need some exotic one so you have an option to install it with `pip install` command."
   ]
  },
  {
   "cell_type": "markdown",
   "id": "common-length",
   "metadata": {},
   "source": [
    "## List packages installed"
   ]
  },
  {
   "cell_type": "markdown",
   "id": "refined-patrol",
   "metadata": {},
   "source": [
    "First of all, let's see what has already been installed:"
   ]
  },
  {
   "cell_type": "code",
   "execution_count": null,
   "id": "responsible-overview",
   "metadata": {},
   "outputs": [],
   "source": [
    "!pip list"
   ]
  },
  {
   "cell_type": "markdown",
   "id": "white-brunei",
   "metadata": {},
   "source": [
    "...or we can find a specific package e.g. with `tensorflow`:"
   ]
  },
  {
   "cell_type": "code",
   "execution_count": null,
   "id": "sealed-nelson",
   "metadata": {},
   "outputs": [],
   "source": [
    "!pip list | grep tensorflow"
   ]
  },
  {
   "cell_type": "markdown",
   "id": "satellite-mounting",
   "metadata": {},
   "source": [
    "## Install a new one"
   ]
  },
  {
   "cell_type": "markdown",
   "id": "bizarre-evans",
   "metadata": {},
   "source": [
    "Sometimes it is just useful to look through the manual:"
   ]
  },
  {
   "cell_type": "code",
   "execution_count": null,
   "id": "duplicate-leave",
   "metadata": {},
   "outputs": [],
   "source": [
    "!pip help"
   ]
  },
  {
   "cell_type": "markdown",
   "id": "powerful-three",
   "metadata": {},
   "source": [
    "In a case when you do not want to read a manual but just want to unstall some [exotic package](https://pypi.org/project/exotic/), you may run `pip install <PACKAGE_NAME>` as follows:"
   ]
  },
  {
   "cell_type": "code",
   "execution_count": null,
   "id": "composed-marathon",
   "metadata": {},
   "outputs": [],
   "source": [
    "!pip install exotic"
   ]
  },
  {
   "cell_type": "markdown",
   "id": "different-navigation",
   "metadata": {},
   "source": [
    "...and it has been installed:"
   ]
  },
  {
   "cell_type": "code",
   "execution_count": null,
   "id": "czech-animal",
   "metadata": {},
   "outputs": [],
   "source": [
    "!pip list | grep exotic"
   ]
  },
  {
   "cell_type": "markdown",
   "id": "anonymous-number",
   "metadata": {},
   "source": [
    "The package can also be uninstalled with simple command (note the key `-y` that is used to escape promt like `press yes/no to ininstall package` and means `yes` answer):"
   ]
  },
  {
   "cell_type": "code",
   "execution_count": null,
   "id": "coupled-allergy",
   "metadata": {},
   "outputs": [],
   "source": [
    "!pip uninstall -y exotic"
   ]
  },
  {
   "cell_type": "markdown",
   "id": "broke-turkey",
   "metadata": {},
   "source": [
    "## Import your own script"
   ]
  },
  {
   "cell_type": "markdown",
   "id": "fixed-serve",
   "metadata": {},
   "source": [
    "You can import an arbitary `.py` script as an library witn `import` command. Let's do it! \n",
    "\n",
    "First of all, create a script with a function `my_function`:"
   ]
  },
  {
   "cell_type": "code",
   "execution_count": null,
   "id": "refined-steel",
   "metadata": {},
   "outputs": [],
   "source": [
    "!echo \"def my_function(x):\" >> myscript.py\n",
    "!echo \"    print(x)\" >> myscript.py\n",
    "!cat myscript.py"
   ]
  },
  {
   "cell_type": "markdown",
   "id": "celtic-inspector",
   "metadata": {},
   "source": [
    "Now we import `my_function` from that script and use it:"
   ]
  },
  {
   "cell_type": "code",
   "execution_count": null,
   "id": "welsh-kelly",
   "metadata": {},
   "outputs": [],
   "source": [
    "from myscript import my_function\n",
    "my_function('Wow, this function is imported!')"
   ]
  },
  {
   "cell_type": "markdown",
   "id": "green-blanket",
   "metadata": {},
   "source": [
    "This approach allows to create useful functions and reuse them in other notebooks or Python scripts."
   ]
  },
  {
   "cell_type": "markdown",
   "id": "coupled-garbage",
   "metadata": {},
   "source": [
    "Now will remove our script file:"
   ]
  },
  {
   "cell_type": "code",
   "execution_count": null,
   "id": "swiss-relaxation",
   "metadata": {},
   "outputs": [],
   "source": [
    "!rm myscript.py"
   ]
  },
  {
   "cell_type": "code",
   "execution_count": null,
   "id": "parental-prediction",
   "metadata": {},
   "outputs": [],
   "source": []
  }
 ],
 "metadata": {
  "kernelspec": {
   "display_name": "Python 3",
   "language": "python",
   "name": "python3"
  },
  "language_info": {
   "codemirror_mode": {
    "name": "ipython",
    "version": 3
   },
   "file_extension": ".py",
   "mimetype": "text/x-python",
   "name": "python",
   "nbconvert_exporter": "python",
   "pygments_lexer": "ipython3",
   "version": "3.8.6"
  }
 },
 "nbformat": 4,
 "nbformat_minor": 5
}
