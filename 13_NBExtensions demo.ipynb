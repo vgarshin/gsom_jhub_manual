{
 "cells": [
  {
   "cell_type": "markdown",
   "id": "ee822ea8",
   "metadata": {},
   "source": [
    "# Jupyter Notebook Extensions"
   ]
  },
  {
   "cell_type": "markdown",
   "id": "f2556b6e",
   "metadata": {},
   "source": [
    "There is a [`jupyter_contrib_nbextensions`](https://jupyter-contrib-nbextensions.readthedocs.io) package that contains a collection of community-contributed unofficial extensions that add functionality to the Jupyter notebook. These extensions are mostly written in Javascript and will be loaded locally in your browser. "
   ]
  },
  {
   "cell_type": "markdown",
   "id": "c9e5c644",
   "metadata": {},
   "source": [
    "## How to install nbextensions"
   ]
  },
  {
   "cell_type": "markdown",
   "id": "be80e5aa",
   "metadata": {},
   "source": [
    "Installation process is very simple with `!pip install`:"
   ]
  },
  {
   "cell_type": "code",
   "execution_count": null,
   "id": "5121077a",
   "metadata": {},
   "outputs": [],
   "source": [
    "%%bash\n",
    "pip install jupyter_contrib_nbextensions\n",
    "jupyter contrib nbextension install --user"
   ]
  },
  {
   "cell_type": "markdown",
   "id": "d5440b91",
   "metadata": {},
   "source": [
    "## Manage extensions"
   ]
  },
  {
   "cell_type": "markdown",
   "id": "3100e43b",
   "metadata": {},
   "source": [
    "To turn on the selected extension just run a command with key `enable`. Here the [variable inspector](https://jupyter-contrib-nbextensions.readthedocs.io/en/latest/nbextensions/varInspector/README.html) extension is enabled:"
   ]
  },
  {
   "cell_type": "code",
   "execution_count": null,
   "id": "70ad7e38",
   "metadata": {},
   "outputs": [],
   "source": [
    "!jupyter nbextension enable varInspector/main"
   ]
  },
  {
   "cell_type": "markdown",
   "id": "3c29fb04",
   "metadata": {},
   "source": [
    "...one more [collapsible headings](https://jupyter-contrib-nbextensions.readthedocs.io/en/latest/nbextensions/collapsible_headings/readme.html) extension is enabled too:"
   ]
  },
  {
   "cell_type": "code",
   "execution_count": null,
   "id": "6f6fa781",
   "metadata": {},
   "outputs": [],
   "source": [
    "!jupyter nbextension enable collapsible_headings/main"
   ]
  },
  {
   "cell_type": "markdown",
   "id": "c6b33dc0",
   "metadata": {},
   "source": [
    "__NOTE:__ sometimes it requires to stop and close your opened notebook and reopen it to see the effect of turned on extensions."
   ]
  },
  {
   "cell_type": "markdown",
   "id": "a5e3ef7a",
   "metadata": {},
   "source": [
    "After re-openning your notebokk you will see new extensions in it - `varInspector` icon and collapsible headers:"
   ]
  },
  {
   "cell_type": "markdown",
   "id": "d990dadf",
   "metadata": {},
   "source": [
    "![NBExtensions result](images/nbextensions.png)"
   ]
  },
  {
   "cell_type": "markdown",
   "id": "96fb32e7",
   "metadata": {},
   "source": [
    "To list all enabled extensions run a command:"
   ]
  },
  {
   "cell_type": "code",
   "execution_count": null,
   "id": "3572c131",
   "metadata": {},
   "outputs": [],
   "source": [
    "!jupyter nbextension list"
   ]
  },
  {
   "cell_type": "markdown",
   "id": "39125e51",
   "metadata": {},
   "source": [
    "Finally, if there is a need to disable the extensions you may turn them off with the following command:"
   ]
  },
  {
   "cell_type": "code",
   "execution_count": null,
   "id": "4eec3e6e",
   "metadata": {},
   "outputs": [],
   "source": [
    "%%bash\n",
    "jupyter nbextension disable varInspector/main\n",
    "jupyter nbextension disable collapsible_headings/main"
   ]
  }
 ],
 "metadata": {
  "kernelspec": {
   "display_name": "Python 3 (ipykernel)",
   "language": "python",
   "name": "python3"
  },
  "language_info": {
   "codemirror_mode": {
    "name": "ipython",
    "version": 3
   },
   "file_extension": ".py",
   "mimetype": "text/x-python",
   "name": "python",
   "nbconvert_exporter": "python",
   "pygments_lexer": "ipython3",
   "version": "3.10.8"
  },
  "varInspector": {
   "cols": {
    "lenName": 16,
    "lenType": 16,
    "lenVar": 40
   },
   "kernels_config": {
    "python": {
     "delete_cmd_postfix": "",
     "delete_cmd_prefix": "del ",
     "library": "var_list.py",
     "varRefreshCmd": "print(var_dic_list())"
    },
    "r": {
     "delete_cmd_postfix": ") ",
     "delete_cmd_prefix": "rm(",
     "library": "var_list.r",
     "varRefreshCmd": "cat(var_dic_list()) "
    }
   },
   "types_to_exclude": [
    "module",
    "function",
    "builtin_function_or_method",
    "instance",
    "_Feature"
   ],
   "window_display": false
  },
  "widgets": {
   "application/vnd.jupyter.widget-state+json": {
    "state": {},
    "version_major": 2,
    "version_minor": 0
   }
  }
 },
 "nbformat": 4,
 "nbformat_minor": 5
}
