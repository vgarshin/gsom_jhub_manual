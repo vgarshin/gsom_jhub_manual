{
 "cells": [
  {
   "cell_type": "markdown",
   "id": "d739a8a3-e52c-45c6-abd3-e0038834a8c8",
   "metadata": {
    "tags": []
   },
   "source": [
    "# MLflow demo"
   ]
  },
  {
   "cell_type": "markdown",
   "id": "48045ad3-42d7-4b72-b2d2-309d8bde9eb0",
   "metadata": {},
   "source": [
    "## Start MLflow server"
   ]
  },
  {
   "cell_type": "markdown",
   "id": "936443d0-6b57-4cbd-a91d-12cc0e0bb33b",
   "metadata": {},
   "source": [
    "[MLflow](https://mlflow.org) is a versatile, expandable, open-source platform for managing workflows and artifacts across the machine learning lifecycle. It has built-in integrations with many popular ML libraries, but can be used with any library, algorithm, or deployment tool. It is designed to be extensible, so you can write plugins to support new workflows, libraries, and tools."
   ]
  },
  {
   "cell_type": "markdown",
   "id": "b495dc68-7544-4650-a292-5f87f3a2f74b",
   "metadata": {},
   "source": [
    "You can easily install MLflow for your tasks in `DataScience environment` with the following script:"
   ]
  },
  {
   "cell_type": "code",
   "execution_count": null,
   "id": "40c5e11e-27a8-4b20-a574-04b513360d25",
   "metadata": {},
   "outputs": [],
   "source": [
    "!cat manutils/start-mlflow.sh"
   ]
  },
  {
   "cell_type": "markdown",
   "id": "793d3d77-21dc-4027-b622-51e31f83bf40",
   "metadata": {},
   "source": [
    "To run install process open a terminal and type `cd ~ && __MANUAL/manutils/start-mlflow.sh` and MLflow will be installed."
   ]
  },
  {
   "cell_type": "markdown",
   "id": "0a6f447f-d296-4ad7-9045-148626919d66",
   "metadata": {},
   "source": [
    "## Libraries and UI access"
   ]
  },
  {
   "cell_type": "code",
   "execution_count": null,
   "id": "fe947538-fead-4a27-8509-a9fb7321bfb7",
   "metadata": {
    "tags": []
   },
   "outputs": [],
   "source": [
    "import os\n",
    "import numpy as np\n",
    "import mlflow\n",
    "from mlflow import log_metric, log_param, log_params, log_artifacts\n",
    "from mlflow.models.signature import infer_signature\n",
    "from random import random, randint\n",
    "from sklearn.model_selection import train_test_split\n",
    "from sklearn.metrics import mean_squared_error, mean_absolute_error, r2_score\n",
    "from sklearn.datasets import load_diabetes\n",
    "from sklearn.ensemble import RandomForestRegressor\n",
    "from datetime import datetime\n",
    "from random import randint \n",
    "\n",
    "mlflow.set_tracking_uri(f'file:///home/jovyan/{os.environ[\"JUPYTERHUB_USER\"]}_mlflow')\n",
    "print('MLflow UI available at:',\n",
    "      'https://jhas01.gsom.spbu.ru{}proxy/{}/'.format(\n",
    "          os.environ['JUPYTERHUB_SERVICE_PREFIX'], 50000))"
   ]
  },
  {
   "cell_type": "markdown",
   "id": "95bd70d2-3d4a-49ee-aa77-74117c58ffcd",
   "metadata": {},
   "source": [
    "__NOTE:__ MLflow is configured to store its artifacts in the `<YOUR_LOGIN_NAME>_mlflow` directory that will be created whrn MLflow is started."
   ]
  },
  {
   "cell_type": "markdown",
   "id": "aa0d95ba-7c0d-4885-b2a7-339acca0168c",
   "metadata": {},
   "source": [
    "## Experiments and tracking"
   ]
  },
  {
   "cell_type": "markdown",
   "id": "9bc3c3f4-c630-43b2-b4ce-95199c8dcb87",
   "metadata": {},
   "source": [
    "Let's define a function for evaluation of the model:"
   ]
  },
  {
   "cell_type": "code",
   "execution_count": null,
   "id": "05f1f86c-2236-43ef-b8ac-fd4ee7f09ab8",
   "metadata": {},
   "outputs": [],
   "source": [
    "def eval_metrics(actual, pred):\n",
    "    rmse = np.sqrt(mean_squared_error(actual, pred))\n",
    "    mae = mean_absolute_error(actual, pred)\n",
    "    r2 = r2_score(actual, pred)\n",
    "    return rmse, mae, r2"
   ]
  },
  {
   "cell_type": "markdown",
   "id": "aedb07bf-8632-4245-ba9b-8e75156914d3",
   "metadata": {},
   "source": [
    "Here is a base example how to use MLflow for your tasks:"
   ]
  },
  {
   "cell_type": "code",
   "execution_count": null,
   "id": "f8712bdd-5b12-43d4-932b-07d898cf872a",
   "metadata": {},
   "outputs": [],
   "source": [
    "name_of_run = f'run_{datetime.now()}'\n",
    "\n",
    "with mlflow.start_run(run_name=name_of_run) as run:\n",
    "    # Load the diabetes dataset\n",
    "    db = load_diabetes()\n",
    "    X_train, X_test, y_train, y_test = train_test_split(db.data, db.target)\n",
    "    \n",
    "    # Random set of parameters\n",
    "    n_estimators = randint(20, 200)\n",
    "    max_depth = randint(2, 10)\n",
    "\n",
    "    # Create and train models\n",
    "    rf = RandomForestRegressor(\n",
    "        n_estimators=n_estimators, \n",
    "        max_depth=max_depth\n",
    "    )\n",
    "    rf.fit(X_train, y_train)\n",
    "\n",
    "    # Use the model to make predictions on the test dataset\n",
    "    predictions = rf.predict(X_test)\n",
    "    signature = infer_signature(X_test, predictions)\n",
    "    mlflow.sklearn.log_model(\n",
    "        rf, \n",
    "        'model',\n",
    "        registered_model_name='RandomForestRegressorModel', \n",
    "        signature=signature\n",
    "    )\n",
    "    \n",
    "    # Evaluate metrics\n",
    "    (rmse, mae, r2) = eval_metrics(y_test, predictions)\n",
    "    \n",
    "    print('Run:', name_of_run)\n",
    "    print('Run ID: {}'.format(run.info.run_id))\n",
    "    print(f'  RMSE: {rmse}')\n",
    "    print(f'  MAE: {mae}')\n",
    "    print(f'  R2: {r2}')\n",
    "\n",
    "    mlflow.log_param('n_estimators', n_estimators)\n",
    "    mlflow.log_param('max_depth', max_depth)\n",
    "    mlflow.log_metric('rmse', rmse)\n",
    "    mlflow.log_metric('r2', r2)\n",
    "    mlflow.log_metric('mae', mae)    "
   ]
  },
  {
   "cell_type": "markdown",
   "id": "96f44718-8f51-4899-8440-65c10a0b9375",
   "metadata": {},
   "source": [
    "You can now view all your experiments and models in MLflow UI with the URL above."
   ]
  },
  {
   "cell_type": "markdown",
   "id": "90cf2738-282f-432b-a591-5db4c6a7cfa9",
   "metadata": {},
   "source": [
    "## Fetching a model from the model registry"
   ]
  },
  {
   "cell_type": "markdown",
   "id": "a658600f-0208-4466-8fd5-5a7cc244aa14",
   "metadata": {},
   "source": [
    "After you have registered an MLflow model, you can [fetch](https://mlflow.org/docs/latest/model-registry.html#fetching-an-mlflow-model-from-the-model-registry) that model back for predictions:"
   ]
  },
  {
   "cell_type": "code",
   "execution_count": null,
   "id": "995f2e4d-d526-4889-888a-ea1bcbe22af2",
   "metadata": {},
   "outputs": [],
   "source": [
    "import mlflow.pyfunc"
   ]
  },
  {
   "cell_type": "code",
   "execution_count": null,
   "id": "8a1ea666-ce21-42f7-8f95-282142b9ca62",
   "metadata": {},
   "outputs": [],
   "source": [
    "model_name = 'RandomForestRegressorModel'\n",
    "model_version = 4\n",
    "\n",
    "model = mlflow.pyfunc.load_model(model_uri=f'models:/{model_name}/{model_version}')\n",
    "preds = model.predict(X_test)\n",
    "print(preds.shape)"
   ]
  },
  {
   "cell_type": "code",
   "execution_count": null,
   "id": "cf3da9cb-7d78-4927-9e89-528b747588c5",
   "metadata": {},
   "outputs": [],
   "source": [
    "print('Here are predictions:\\n', preds)"
   ]
  },
  {
   "cell_type": "code",
   "execution_count": null,
   "id": "351c35c9-bc51-427c-9779-ab2a804342d7",
   "metadata": {},
   "outputs": [],
   "source": []
  }
 ],
 "metadata": {
  "kernelspec": {
   "display_name": "Python 3 (ipykernel)",
   "language": "python",
   "name": "python3"
  },
  "language_info": {
   "codemirror_mode": {
    "name": "ipython",
    "version": 3
   },
   "file_extension": ".py",
   "mimetype": "text/x-python",
   "name": "python",
   "nbconvert_exporter": "python",
   "pygments_lexer": "ipython3",
   "version": "3.10.8"
  }
 },
 "nbformat": 4,
 "nbformat_minor": 5
}
