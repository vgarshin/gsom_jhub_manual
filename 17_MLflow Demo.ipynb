{
 "cells": [
  {
   "cell_type": "markdown",
   "id": "d739a8a3-e52c-45c6-abd3-e0038834a8c8",
   "metadata": {
    "tags": []
   },
   "source": [
    "# MLflow demo"
   ]
  },
  {
   "cell_type": "markdown",
   "id": "48045ad3-42d7-4b72-b2d2-309d8bde9eb0",
   "metadata": {},
   "source": [
    "## Start MLflow server"
   ]
  },
  {
   "cell_type": "markdown",
   "id": "936443d0-6b57-4cbd-a91d-12cc0e0bb33b",
   "metadata": {},
   "source": [
    "[MLflow](https://mlflow.org) is a versatile, expandable, open-source platform for managing workflows and artifacts across the machine learning lifecycle. It has built-in integrations with many popular ML libraries, but can be used with any library, algorithm, or deployment tool. It is designed to be extensible, so you can write plugins to support new workflows, libraries, and tools."
   ]
  },
  {
   "cell_type": "markdown",
   "id": "b495dc68-7544-4650-a292-5f87f3a2f74b",
   "metadata": {},
   "source": [
    "You can easily install MLflow for your tasks with the following script:"
   ]
  },
  {
   "cell_type": "code",
   "execution_count": null,
   "id": "40c5e11e-27a8-4b20-a574-04b513360d25",
   "metadata": {},
   "outputs": [],
   "source": [
    "!cat manutils/start-mlflow.sh"
   ]
  },
  {
   "cell_type": "markdown",
   "id": "793d3d77-21dc-4027-b622-51e31f83bf40",
   "metadata": {},
   "source": [
    "To run install process open a terminal and type `cd ~ && __MANUAL/manutils/start-mlflow.sh` and MLflow will be installed."
   ]
  },
  {
   "cell_type": "markdown",
   "id": "0a6f447f-d296-4ad7-9045-148626919d66",
   "metadata": {},
   "source": [
    "## Run example"
   ]
  },
  {
   "cell_type": "code",
   "execution_count": null,
   "id": "fe947538-fead-4a27-8509-a9fb7321bfb7",
   "metadata": {
    "tags": []
   },
   "outputs": [],
   "source": [
    "import os\n",
    "import mlflow\n",
    "from mlflow import log_metric, log_param, log_params, log_artifacts\n",
    "from mlflow.models.signature import infer_signature\n",
    "from random import random, randint\n",
    "from sklearn.model_selection import train_test_split\n",
    "from sklearn.datasets import load_diabetes\n",
    "from sklearn.ensemble import RandomForestRegressor\n",
    "\n",
    "mlflow.set_tracking_uri(f'file:///home/jovyan/{os.environ[\"JUPYTERHUB_USER\"]}_mlflow')\n",
    "print('MLflow UI available at:',\n",
    "      'https://jhas01.gsom.spbu.ru{}proxy/{}/'.format(\n",
    "          os.environ['JUPYTERHUB_SERVICE_PREFIX'], 50000))"
   ]
  },
  {
   "cell_type": "markdown",
   "id": "95bd70d2-3d4a-49ee-aa77-74117c58ffcd",
   "metadata": {},
   "source": [
    "__NOTE:__ MLflow is configured to store its artifacts in the `<YOUR_LOGIN_NAME>_mlflow` directory that will be created whrn MLflow is started."
   ]
  },
  {
   "cell_type": "markdown",
   "id": "aedb07bf-8632-4245-ba9b-8e75156914d3",
   "metadata": {},
   "source": [
    "Here is a base example how to use MLflow for your tasks:"
   ]
  },
  {
   "cell_type": "code",
   "execution_count": null,
   "id": "f8712bdd-5b12-43d4-932b-07d898cf872a",
   "metadata": {},
   "outputs": [],
   "source": [
    "with mlflow.start_run() as run:\n",
    "    # Load the diabetes dataset.\n",
    "    db = load_diabetes()\n",
    "    X_train, X_test, y_train, y_test = train_test_split(db.data, db.target)\n",
    "\n",
    "    # Create and train models.\n",
    "    rf = RandomForestRegressor(n_estimators=100, max_depth=6, max_features=3)\n",
    "    rf.fit(X_train, y_train)\n",
    "\n",
    "    # Use the model to make predictions on the test dataset.\n",
    "    predictions = rf.predict(X_test)\n",
    "    signature = infer_signature(X_test, predictions)\n",
    "    mlflow.sklearn.log_model(rf, \"model\", signature=signature)\n",
    "\n",
    "    print(\"Run ID: {}\".format(run.info.run_id))"
   ]
  },
  {
   "cell_type": "code",
   "execution_count": null,
   "id": "4767c472-d210-4d83-b052-0b631d877a09",
   "metadata": {},
   "outputs": [],
   "source": []
  }
 ],
 "metadata": {
  "kernelspec": {
   "display_name": "Python 3 (ipykernel)",
   "language": "python",
   "name": "python3"
  },
  "language_info": {
   "codemirror_mode": {
    "name": "ipython",
    "version": 3
   },
   "file_extension": ".py",
   "mimetype": "text/x-python",
   "name": "python",
   "nbconvert_exporter": "python",
   "pygments_lexer": "ipython3",
   "version": "3.10.8"
  }
 },
 "nbformat": 4,
 "nbformat_minor": 5
}
