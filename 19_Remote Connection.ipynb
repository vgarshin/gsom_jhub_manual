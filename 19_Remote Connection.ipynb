{
 "cells": [
  {
   "cell_type": "markdown",
   "id": "85e4caf1-c209-46ed-aadd-ca9895509870",
   "metadata": {},
   "source": [
    "# Remote connection to JupyterHub"
   ]
  },
  {
   "cell_type": "markdown",
   "id": "04217bb0-3144-443f-a9f6-c7f92a7d26b9",
   "metadata": {},
   "source": [
    "In a case you want to utilize computational resources of the cluster and work with the data stored on JupyterHub platform, but at the same time you want to write code locally at your notebook with your favorite IDE - this manual is for you. Here we show you how to connect to JupyterHub from your local IDE with a few simple steps."
   ]
  },
  {
   "cell_type": "markdown",
   "id": "2ace9f05-e09a-4c3f-8c05-3cc3e32f0620",
   "metadata": {},
   "source": [
    "## Step 1. Run your server and get token"
   ]
  },
  {
   "cell_type": "markdown",
   "id": "a7b49d2c-95e3-4030-8358-66cc5c970c74",
   "metadata": {},
   "source": [
    "It is impossible to manage your server completely from your local IDE, so you will have to open a [JupyterHub enter page](https://jhas01.gsom.spbu.ru/), log in and start your server as usual:"
   ]
  },
  {
   "cell_type": "markdown",
   "id": "d4c82c60-c12e-4d62-a267-9a54a861b57d",
   "metadata": {},
   "source": [
    "![NBExtensions result](images/remote_0.JPG)"
   ]
  },
  {
   "cell_type": "markdown",
   "id": "394d115b-b535-4870-a687-778ce583c9a6",
   "metadata": {},
   "source": [
    "Then you need to open `File` menu and click `Hub control Panel`:"
   ]
  },
  {
   "cell_type": "markdown",
   "id": "884b1d41-7e39-4d9e-b90d-63ad04885f49",
   "metadata": {},
   "source": [
    "![NBExtensions result](images/remote_1.JPG)"
   ]
  },
  {
   "cell_type": "markdown",
   "id": "6eb0c8ce-3954-43d4-96ce-90a88da16dff",
   "metadata": {},
   "source": [
    "...and Control panel will be opened. Here you should find `Token` menu and open it^"
   ]
  },
  {
   "cell_type": "markdown",
   "id": "f373c407-8bf4-4dc1-ba9f-bdbdd049b46d",
   "metadata": {},
   "source": [
    "![NBExtensions result](images/remote_2.JPG)"
   ]
  },
  {
   "cell_type": "markdown",
   "id": "0c688dd6-5f33-4a7a-a9c1-4e96d0db6950",
   "metadata": {},
   "source": [
    "You will open Token management page. To get new token just click button and copy token to clipboard:"
   ]
  },
  {
   "cell_type": "markdown",
   "id": "6a81ec71-3aad-4869-a54b-8ded15a54d35",
   "metadata": {},
   "source": [
    "![NBExtensions result](images/remote_3.jpg)"
   ]
  },
  {
   "cell_type": "markdown",
   "id": "dc9af30c-5875-4ee1-82a9-6ddf79af1f8a",
   "metadata": {},
   "source": [
    "Now you have token! Keep it secret because it is a key for your code and your data at the server."
   ]
  },
  {
   "cell_type": "markdown",
   "id": "4a2d1367-0a9e-4f7c-bb8f-b798ce52d5a6",
   "metadata": {},
   "source": [
    "## Step 2. Prepare your IDE"
   ]
  },
  {
   "cell_type": "markdown",
   "id": "05cb7058-ad37-458b-b278-044806419a31",
   "metadata": {
    "tags": []
   },
   "source": [
    "Let's use [Visual Studio Code](https://code.visualstudio.com/) for an example. Visual Studio Code is a lightweight but powerful source code editor which runs on your desktop and is available for Windows, macOS and Linux."
   ]
  },
  {
   "cell_type": "markdown",
   "id": "dc5abcbc-056e-4de9-966b-782e343ff116",
   "metadata": {},
   "source": [
    "The one thing you will have to do with VS Code after install is the installation of `Juputer extention` to work with Jupyter notebooks:"
   ]
  },
  {
   "cell_type": "markdown",
   "id": "55f57ade-c512-4b9e-a843-106b4f2ba2da",
   "metadata": {},
   "source": [
    "![NBExtensions result](images/remote_4.jpg)"
   ]
  },
  {
   "cell_type": "markdown",
   "id": "d7be5769-d725-4b74-adb0-3c6b218b7667",
   "metadata": {},
   "source": [
    "Then you may create a Jupyter notebook to work with locally and to connect this notebook to remote JupyterHub. First, click `File` menu and `New File...`, then select `Jupyter Notebook`:"
   ]
  },
  {
   "cell_type": "markdown",
   "id": "1ea9a354-50e7-4781-8559-5ff5a0ab93c2",
   "metadata": {
    "tags": []
   },
   "source": [
    "![NBExtensions result](images/remote_5.jpg)"
   ]
  },
  {
   "cell_type": "markdown",
   "id": "c80e1028-ada6-46e6-85e9-002086c6f6f7",
   "metadata": {},
   "source": [
    "## Step 3. Connect to your remote JupyterHub server"
   ]
  },
  {
   "cell_type": "markdown",
   "id": "e6fa5935-7b74-4b17-b664-7113b6d8a469",
   "metadata": {},
   "source": [
    "At the last step you may connect to remote server (or kernel) within your notebook if you click the icon of local kernel and select `Connect to a Jupyter Server`:"
   ]
  },
  {
   "cell_type": "markdown",
   "id": "c2f395db-991c-414f-a859-08f72440fd86",
   "metadata": {},
   "source": [
    "![NBExtensions result](images/remote_6.jpg)"
   ]
  },
  {
   "cell_type": "markdown",
   "id": "6699f832-10a4-4936-810a-f0d335a1fbc0",
   "metadata": {},
   "source": [
    "You will be offered to enter URL for connection, the URL should be `https://jhas01.gsom.spbu.ru/user/<YOUR_LOGIN>&token=<YOUR_TOKEN_THAT_WAS_COPIED_BEFORE>`:"
   ]
  },
  {
   "cell_type": "markdown",
   "id": "c7da0cfc-3787-4985-94be-103134cfb5f2",
   "metadata": {},
   "source": [
    "![NBExtensions result](images/remote_7.jpg)"
   ]
  },
  {
   "cell_type": "markdown",
   "id": "a6f2582a-147e-469a-b7d9-cff929d9b1c4",
   "metadata": {},
   "source": [
    "## Step 4. Work with local notebook"
   ]
  },
  {
   "cell_type": "markdown",
   "id": "491d23de-7527-44bb-a4ff-a505f7fa7acb",
   "metadata": {},
   "source": [
    "Now you have your local notebook that is connected to remote JupyterHub. You can utilize computational resources of cloud JupyterHub and work with the data in your cloud storage, but the notebook with the code will be stored locally:"
   ]
  },
  {
   "cell_type": "markdown",
   "id": "341993eb-018d-4492-a11f-3c7b623610d5",
   "metadata": {
    "tags": []
   },
   "source": [
    "![NBExtensions result](images/remote_8.jpg)"
   ]
  },
  {
   "cell_type": "code",
   "execution_count": null,
   "id": "690010bd-33b9-4764-84ac-ce8979fe56eb",
   "metadata": {},
   "outputs": [],
   "source": []
  }
 ],
 "metadata": {
  "kernelspec": {
   "display_name": "Python 3 (ipykernel)",
   "language": "python",
   "name": "python3"
  },
  "language_info": {
   "codemirror_mode": {
    "name": "ipython",
    "version": 3
   },
   "file_extension": ".py",
   "mimetype": "text/x-python",
   "name": "python",
   "nbconvert_exporter": "python",
   "pygments_lexer": "ipython3",
   "version": "3.9.7"
  },
  "widgets": {
   "application/vnd.jupyter.widget-state+json": {
    "state": {},
    "version_major": 2,
    "version_minor": 0
   }
  }
 },
 "nbformat": 4,
 "nbformat_minor": 5
}
