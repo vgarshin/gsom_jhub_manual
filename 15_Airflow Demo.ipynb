{
 "cells": [
  {
   "cell_type": "markdown",
   "id": "maritime-stretch",
   "metadata": {},
   "source": [
    "# Apache Airflow demo"
   ]
  },
  {
   "cell_type": "markdown",
   "id": "fancy-potter",
   "metadata": {},
   "source": [
    "## Intro"
   ]
  },
  {
   "cell_type": "markdown",
   "id": "fancy-deposit",
   "metadata": {},
   "source": [
    "__NOTE:__ for this notebook you should start your server with `Airflow environment`."
   ]
  },
  {
   "cell_type": "markdown",
   "id": "aquatic-tulsa",
   "metadata": {},
   "source": [
    "![Apache Airflow in a box](images/airflow_env.png)"
   ]
  },
  {
   "cell_type": "markdown",
   "id": "enormous-particle",
   "metadata": {},
   "source": [
    "[Apache Airflow](https://airflow.apache.org/) is a platform created by the community to programmatically author, schedule and monitor workflows."
   ]
  },
  {
   "cell_type": "markdown",
   "id": "sized-colon",
   "metadata": {},
   "source": [
    "## Start Airflow"
   ]
  },
  {
   "cell_type": "markdown",
   "id": "annoying-device",
   "metadata": {},
   "source": [
    "Open a terminal and run `start-airflow.sh` command."
   ]
  },
  {
   "cell_type": "markdown",
   "id": "specified-trout",
   "metadata": {},
   "source": [
    "## Airflow UI access"
   ]
  },
  {
   "cell_type": "markdown",
   "id": "decreased-setup",
   "metadata": {},
   "source": [
    "The Airflow UI makes it easy to monitor and troubleshoot your data pipelines. To get URL for the UI run next cell:"
   ]
  },
  {
   "cell_type": "code",
   "execution_count": null,
   "id": "cubic-thread",
   "metadata": {},
   "outputs": [],
   "source": [
    "import os\n",
    "\n",
    "print(\n",
    "    'Airflow UI available at:',\n",
    "    'https://jhas01.gsom.spbu.ru{}proxy/{}'.format(\n",
    "        os.environ['JUPYTERHUB_SERVICE_PREFIX'],\n",
    "        50000))"
   ]
  },
  {
   "cell_type": "markdown",
   "id": "tested-choir",
   "metadata": {},
   "source": [
    "Use the following credentials to enter the UI:\n",
    "- username `airflow`\n",
    "- password `airflow`"
   ]
  },
  {
   "cell_type": "code",
   "execution_count": null,
   "id": "brazilian-wagon",
   "metadata": {},
   "outputs": [],
   "source": []
  }
 ],
 "metadata": {
  "kernelspec": {
   "display_name": "Python 3 (ipykernel)",
   "language": "python",
   "name": "python3"
  },
  "language_info": {
   "codemirror_mode": {
    "name": "ipython",
    "version": 3
   },
   "file_extension": ".py",
   "mimetype": "text/x-python",
   "name": "python",
   "nbconvert_exporter": "python",
   "pygments_lexer": "ipython3",
   "version": "3.9.6"
  }
 },
 "nbformat": 4,
 "nbformat_minor": 5
}
