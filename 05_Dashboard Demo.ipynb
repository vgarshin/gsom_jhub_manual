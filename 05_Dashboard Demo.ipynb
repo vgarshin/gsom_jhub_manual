{
 "cells": [
  {
   "cell_type": "markdown",
   "id": "electronic-prescription",
   "metadata": {},
   "source": [
    "# Dashboards: How to Use"
   ]
  },
  {
   "cell_type": "markdown",
   "id": "dramatic-advisory",
   "metadata": {},
   "source": [
    "Dashboards are powerful tools for data analysis and visualization, so our JupyterHub has [Dash Plotly library](https://dash.plotly.com/) pre-installed with some additional features to provide dashboards available for users."
   ]
  },
  {
   "cell_type": "markdown",
   "id": "about-playing",
   "metadata": {},
   "source": [
    "Here are very basic examples how to start your dashbord in JupyterHub environment."
   ]
  },
  {
   "cell_type": "markdown",
   "id": "79ee1876-3c55-4249-a387-fc1a618e5d85",
   "metadata": {},
   "source": [
    "## Dash installation"
   ]
  },
  {
   "cell_type": "markdown",
   "id": "e623b544-87f6-4586-9da5-4e015c08cad3",
   "metadata": {},
   "source": [
    "In your notebook or terminal, install `dash`:"
   ]
  },
  {
   "cell_type": "code",
   "execution_count": null,
   "id": "9874c52a-cc69-4f3f-8769-f92bd0aca3bf",
   "metadata": {},
   "outputs": [],
   "source": [
    "!pip install \"dash<3.0.0\""
   ]
  },
  {
   "cell_type": "markdown",
   "id": "legal-fourth",
   "metadata": {},
   "source": [
    "## Simple dashboard"
   ]
  },
  {
   "cell_type": "markdown",
   "id": "spare-prompt",
   "metadata": {},
   "source": [
    "Let's create a \"dummy\" dashboard with no data in it:"
   ]
  },
  {
   "cell_type": "code",
   "execution_count": null,
   "id": "34368706",
   "metadata": {},
   "outputs": [],
   "source": [
    "import os\n",
    "from dash import Dash, html"
   ]
  },
  {
   "cell_type": "code",
   "execution_count": null,
   "id": "indoor-extra",
   "metadata": {},
   "outputs": [],
   "source": [
    "PORT = 20000\n",
    "SRV_PREFIX = os.getenv('JUPYTERHUB_SERVICE_PREFIX', '/')\n",
    "print('service prefix:', SRV_PREFIX)\n",
    "BASE_URL = f'https://{os.getenv(\"JUPYTERHUB_HOST_NAME\")}'\n",
    "print('base url:', BASE_URL)"
   ]
  },
  {
   "cell_type": "code",
   "execution_count": null,
   "id": "preliminary-pittsburgh",
   "metadata": {},
   "outputs": [],
   "source": [
    "# Initialize application\n",
    "\n",
    "app = Dash(requests_pathname_prefix=f'{SRV_PREFIX}proxy/{PORT}/')\n",
    "app.layout = html.Div(\n",
    "    [\n",
    "        html.H1('Minimal dashboard, only text in it.')\n",
    "    ]\n",
    ")"
   ]
  },
  {
   "cell_type": "markdown",
   "id": "recognized-store",
   "metadata": {},
   "source": [
    "Now our dummy dashboard will be available at arbitary `port` (you better set port number from `10000` to `64000`), you will need to click URL of the dashboard provided:"
   ]
  },
  {
   "cell_type": "code",
   "execution_count": null,
   "id": "weekly-hostel",
   "metadata": {},
   "outputs": [],
   "source": [
    "app.run(\n",
    "    jupyter_mode='external',  \n",
    "    jupyter_server_url=BASE_URL, \n",
    "    port=PORT\n",
    ")"
   ]
  },
  {
   "cell_type": "markdown",
   "id": "gothic-pursuit",
   "metadata": {},
   "source": [
    "## Dashboard with diagram"
   ]
  },
  {
   "cell_type": "markdown",
   "id": "authorized-acquisition",
   "metadata": {},
   "source": [
    "Now will add a diagram to our dashboard:"
   ]
  },
  {
   "cell_type": "code",
   "execution_count": null,
   "id": "labeled-theology",
   "metadata": {},
   "outputs": [],
   "source": [
    "from dash import dcc"
   ]
  },
  {
   "cell_type": "code",
   "execution_count": null,
   "id": "painful-extreme",
   "metadata": {},
   "outputs": [],
   "source": [
    "app = Dash(requests_pathname_prefix=f'{SRV_PREFIX}proxy/{PORT}/')\n",
    "app.layout = html.Div(children=[\n",
    "    html.H1(children='Dash Example with Bar Plot'),\n",
    "    html.Div(children='Dash: A web application framework for Python.'),\n",
    "    dcc.Graph(\n",
    "        id='example-bar-plot',\n",
    "        figure={\n",
    "            'data': [\n",
    "                {\n",
    "                    'x': ['A', 'B', 'C'], \n",
    "                    'y': [4, 1, 2], \n",
    "                    'type': 'bar', \n",
    "                    'name': 'Blue'\n",
    "                },\n",
    "                {\n",
    "                    'x': ['A', 'B', 'C'], \n",
    "                    'y': [2, 4, 5], \n",
    "                    'type': 'bar', \n",
    "                    'name': 'Orange'\n",
    "                },\n",
    "            ],\n",
    "            'layout': {\n",
    "                'title': 'Dash Data Visualization'\n",
    "            }\n",
    "        }\n",
    "    )\n",
    "])"
   ]
  },
  {
   "cell_type": "code",
   "execution_count": null,
   "id": "manual-junction",
   "metadata": {},
   "outputs": [],
   "source": [
    "app.run(\n",
    "    jupyter_mode='external',  \n",
    "    jupyter_server_url=BASE_URL, \n",
    "    port=PORT\n",
    ")"
   ]
  },
  {
   "cell_type": "markdown",
   "id": "injured-honor",
   "metadata": {},
   "source": [
    "## Advanced dashboard example"
   ]
  },
  {
   "cell_type": "markdown",
   "id": "alien-creek",
   "metadata": {},
   "source": [
    "And finally, rather comlicated example of dashboard below:"
   ]
  },
  {
   "cell_type": "code",
   "execution_count": null,
   "id": "synthetic-blues",
   "metadata": {},
   "outputs": [],
   "source": [
    "import plotly.express as px\n",
    "from dash.dependencies import Input, Output"
   ]
  },
  {
   "cell_type": "code",
   "execution_count": null,
   "id": "virgin-watershed",
   "metadata": {},
   "outputs": [],
   "source": [
    "# Load Data\n",
    "df = px.data.tips()\n",
    "\n",
    "# Build App\n",
    "external_stylesheets = ['https://codepen.io/chriddyp/pen/bWLwgP.css']\n",
    "app = Dash(\n",
    "    requests_pathname_prefix=f'{SRV_PREFIX}proxy/{PORT}/',\n",
    "    external_stylesheets=external_stylesheets\n",
    ")\n",
    "app.layout = html.Div([\n",
    "    html.H1('JupyterDash Demo'),\n",
    "    dcc.Graph(id='graph'),\n",
    "    html.Label([\n",
    "        'colorscale',\n",
    "        dcc.Dropdown(\n",
    "            id='colorscale-dropdown', clearable=False,\n",
    "            value='plasma', options=[\n",
    "                {'label': c, 'value': c}\n",
    "                for c in px.colors.named_colorscales()\n",
    "            ])\n",
    "    ]),\n",
    "])\n",
    "\n",
    "# Define callback to update graph\n",
    "@app.callback(\n",
    "    Output('graph', 'figure'),\n",
    "    [Input('colorscale-dropdown', 'value')]\n",
    ")\n",
    "\n",
    "def update_figure(colorscale):\n",
    "    return px.scatter(\n",
    "        df, x='total_bill', y='tip', color='size',\n",
    "        color_continuous_scale=colorscale,\n",
    "        render_mode='webgl', title='Tips'\n",
    "    )    "
   ]
  },
  {
   "cell_type": "code",
   "execution_count": null,
   "id": "adolescent-handy",
   "metadata": {},
   "outputs": [],
   "source": [
    "app.run(\n",
    "    jupyter_mode='external',  \n",
    "    jupyter_server_url=BASE_URL, \n",
    "    port=PORT\n",
    ")"
   ]
  },
  {
   "cell_type": "code",
   "execution_count": null,
   "id": "9d79967a-0a3d-4deb-a0ca-b6097a86f408",
   "metadata": {},
   "outputs": [],
   "source": []
  }
 ],
 "metadata": {
  "kernelspec": {
   "display_name": "Python 3 (ipykernel)",
   "language": "python",
   "name": "python3"
  },
  "language_info": {
   "codemirror_mode": {
    "name": "ipython",
    "version": 3
   },
   "file_extension": ".py",
   "mimetype": "text/x-python",
   "name": "python",
   "nbconvert_exporter": "python",
   "pygments_lexer": "ipython3",
   "version": "3.11.10"
  },
  "widgets": {
   "application/vnd.jupyter.widget-state+json": {
    "state": {},
    "version_major": 2,
    "version_minor": 0
   }
  }
 },
 "nbformat": 4,
 "nbformat_minor": 5
}
