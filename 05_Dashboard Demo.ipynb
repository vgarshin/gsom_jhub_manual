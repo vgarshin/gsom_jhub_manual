{
 "cells": [
  {
   "cell_type": "markdown",
   "id": "electronic-prescription",
   "metadata": {},
   "source": [
    "# Dashboards: How to Use"
   ]
  },
  {
   "cell_type": "markdown",
   "id": "dramatic-advisory",
   "metadata": {},
   "source": [
    "Dashboards are powerful tools for data analysis and visualization, so our JupyterHub has [Dash Plotly library](https://dash.plotly.com/) pre-installed with some additional features to provide dashboards available for users."
   ]
  },
  {
   "cell_type": "markdown",
   "id": "about-playing",
   "metadata": {},
   "source": [
    "Here are very basic examples how to start your dashbord in JupyterHub environment."
   ]
  },
  {
   "cell_type": "markdown",
   "id": "legal-fourth",
   "metadata": {},
   "source": [
    "## Simple dashboard"
   ]
  },
  {
   "cell_type": "markdown",
   "id": "spare-prompt",
   "metadata": {},
   "source": [
    "Let's create a \"dummy\" dashboard with no data in it:"
   ]
  },
  {
   "cell_type": "code",
   "execution_count": null,
   "id": "indoor-extra",
   "metadata": {},
   "outputs": [],
   "source": [
    "from jupyter_dash import JupyterDash\n",
    "import dash_html_components as html\n",
    "JupyterDash.infer_jupyter_proxy_config()"
   ]
  },
  {
   "cell_type": "code",
   "execution_count": null,
   "id": "preliminary-pittsburgh",
   "metadata": {},
   "outputs": [],
   "source": [
    "# Initialize application\n",
    "app = JupyterDash(__name__)\n",
    "app.layout = html.Div('Minimal dashboard, only text in it.')"
   ]
  },
  {
   "cell_type": "markdown",
   "id": "recognized-store",
   "metadata": {},
   "source": [
    "Now our dummy dashboard will be available at arbitary `port` (you better set port number from `10000` to `64000`):"
   ]
  },
  {
   "cell_type": "code",
   "execution_count": null,
   "id": "weekly-hostel",
   "metadata": {},
   "outputs": [],
   "source": [
    "app.run_server(mode='external', port=20000)"
   ]
  },
  {
   "cell_type": "markdown",
   "id": "gothic-pursuit",
   "metadata": {},
   "source": [
    "## Dashboard with diagram"
   ]
  },
  {
   "cell_type": "markdown",
   "id": "authorized-acquisition",
   "metadata": {},
   "source": [
    "Now will add a diagram to our dashboard:"
   ]
  },
  {
   "cell_type": "code",
   "execution_count": null,
   "id": "labeled-theology",
   "metadata": {},
   "outputs": [],
   "source": [
    "import dash_core_components as dcc"
   ]
  },
  {
   "cell_type": "code",
   "execution_count": null,
   "id": "painful-extreme",
   "metadata": {},
   "outputs": [],
   "source": [
    "app = JupyterDash(__name__)\n",
    "app.layout = html.Div(children=[\n",
    "    html.H1(children='Dash Example with Bar Plot'),\n",
    "    html.Div(children='Dash: A web application framework for Python.'),\n",
    "    dcc.Graph(\n",
    "        id='example-bar-plot',\n",
    "        figure={\n",
    "            'data': [\n",
    "                {\n",
    "                    'x': ['A', 'B', 'C'], \n",
    "                    'y': [4, 1, 2], \n",
    "                    'type': 'bar', \n",
    "                    'name': 'Blue'\n",
    "                },\n",
    "                {\n",
    "                    'x': ['A', 'B', 'C'], \n",
    "                    'y': [2, 4, 5], \n",
    "                    'type': 'bar', \n",
    "                    'name': 'Orange'\n",
    "                },\n",
    "            ],\n",
    "            'layout': {\n",
    "                'title': 'Dash Data Visualization'\n",
    "            }\n",
    "        }\n",
    "    )\n",
    "])"
   ]
  },
  {
   "cell_type": "code",
   "execution_count": null,
   "id": "manual-junction",
   "metadata": {},
   "outputs": [],
   "source": [
    "app.run_server(mode='external', port=20000)"
   ]
  },
  {
   "cell_type": "markdown",
   "id": "injured-honor",
   "metadata": {},
   "source": [
    "## Advanced dashboard example"
   ]
  },
  {
   "cell_type": "markdown",
   "id": "alien-creek",
   "metadata": {},
   "source": [
    "And finally, rather comlicated example of dashboard below:"
   ]
  },
  {
   "cell_type": "code",
   "execution_count": null,
   "id": "synthetic-blues",
   "metadata": {},
   "outputs": [],
   "source": [
    "import plotly.express as px\n",
    "from dash.dependencies import Input, Output"
   ]
  },
  {
   "cell_type": "code",
   "execution_count": null,
   "id": "virgin-watershed",
   "metadata": {},
   "outputs": [],
   "source": [
    "app = JupyterDash(__name__)\n",
    "\n",
    "# Load Data\n",
    "df = px.data.tips()\n",
    "\n",
    "# Build App\n",
    "app = JupyterDash(__name__)\n",
    "external_stylesheets = ['https://codepen.io/chriddyp/pen/bWLwgP.css']\n",
    "app = JupyterDash(external_stylesheets=external_stylesheets)\n",
    "app.layout = html.Div([\n",
    "    html.H1('JupyterDash Demo'),\n",
    "    dcc.Graph(id='graph'),\n",
    "    html.Label([\n",
    "        'colorscale',\n",
    "        dcc.Dropdown(\n",
    "            id='colorscale-dropdown', clearable=False,\n",
    "            value='plasma', options=[\n",
    "                {'label': c, 'value': c}\n",
    "                for c in px.colors.named_colorscales()\n",
    "            ])\n",
    "    ]),\n",
    "])\n",
    "\n",
    "# Define callback to update graph\n",
    "@app.callback(\n",
    "    Output('graph', 'figure'),\n",
    "    [Input('colorscale-dropdown', 'value')]\n",
    ")\n",
    "\n",
    "def update_figure(colorscale):\n",
    "    return px.scatter(\n",
    "        df, x='total_bill', y='tip', color='size',\n",
    "        color_continuous_scale=colorscale,\n",
    "        render_mode='webgl', title='Tips'\n",
    "    )    "
   ]
  },
  {
   "cell_type": "code",
   "execution_count": null,
   "id": "adolescent-handy",
   "metadata": {},
   "outputs": [],
   "source": [
    "app.run_server(mode='external', port=20000)"
   ]
  },
  {
   "cell_type": "code",
   "execution_count": null,
   "id": "classical-respondent",
   "metadata": {},
   "outputs": [],
   "source": []
  }
 ],
 "metadata": {
  "kernelspec": {
   "display_name": "Python 3",
   "language": "python",
   "name": "python3"
  },
  "language_info": {
   "codemirror_mode": {
    "name": "ipython",
    "version": 3
   },
   "file_extension": ".py",
   "mimetype": "text/x-python",
   "name": "python",
   "nbconvert_exporter": "python",
   "pygments_lexer": "ipython3",
   "version": "3.8.6"
  }
 },
 "nbformat": 4,
 "nbformat_minor": 5
}
